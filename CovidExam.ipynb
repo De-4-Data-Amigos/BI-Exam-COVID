{
 "cells": [
  {
   "cell_type": "markdown",
   "metadata": {},
   "source": [
    "# Exam project - Amigos - Covid Business Intelligence"
   ]
  },
  {
   "cell_type": "markdown",
   "metadata": {},
   "source": [
    "### Imports"
   ]
  },
  {
   "cell_type": "code",
   "execution_count": 82,
   "metadata": {},
   "outputs": [],
   "source": [
    "import pandas as pd"
   ]
  },
  {
   "cell_type": "code",
   "execution_count": 83,
   "metadata": {},
   "outputs": [],
   "source": [
    "import numpy as np"
   ]
  },
  {
   "cell_type": "code",
   "execution_count": 84,
   "metadata": {},
   "outputs": [],
   "source": [
    "import seaborn as sns\n",
    "import matplotlib.pyplot as plt"
   ]
  },
  {
   "cell_type": "code",
   "execution_count": 85,
   "metadata": {},
   "outputs": [],
   "source": [
    "from sklearn import metrics\n",
    "from sklearn.cluster import KMeans\n",
    "from scipy.spatial.distance import cdist\n",
    "from sklearn import preprocessing as prep\n",
    "from sklearn.preprocessing import StandardScaler\n",
    "from sklearn.decomposition import PCA"
   ]
  },
  {
   "cell_type": "code",
   "execution_count": 86,
   "metadata": {},
   "outputs": [],
   "source": [
    "# Uncomment the line below to install the folium package\n",
    "# %conda install folium"
   ]
  },
  {
   "cell_type": "code",
   "execution_count": 87,
   "metadata": {},
   "outputs": [],
   "source": [
    "import folium"
   ]
  },
  {
   "cell_type": "markdown",
   "metadata": {},
   "source": [
    "### Reader"
   ]
  },
  {
   "cell_type": "code",
   "execution_count": 88,
   "metadata": {},
   "outputs": [],
   "source": [
    "# Reading the file can take a while - it's 86000 rows :-)\n",
    "data = pd.read_excel(\".\\Data\\CovidDeaths.xlsx\")"
   ]
  },
  {
   "cell_type": "code",
   "execution_count": 89,
   "metadata": {},
   "outputs": [],
   "source": [
    "#show the first and last 5 rows of data"
   ]
  },
  {
   "cell_type": "markdown",
   "metadata": {},
   "source": [
    "### Cleaner"
   ]
  },
  {
   "cell_type": "code",
   "execution_count": 90,
   "metadata": {},
   "outputs": [],
   "source": [
    "#List of all tables to be removed\n",
    "kolonner_til_fjernelse = [\n",
    "    'new_cases_smoothed', 'total_cases_per_million', \n",
    "    'new_cases_per_million', 'new_vaccinations_smoothed', 'new_cases_smoothed_per_million', 'new_deaths_smoothed', \n",
    "    'total_deaths_per_million', 'new_deaths_per_million', 'new_deaths_smoothed_per_million', \n",
    "    'reproduction_rate', 'icu_patients', 'icu_patients_per_million', 'hosp_patients', \n",
    "    'hosp_patients_per_million', 'weekly_icu_admissions', 'weekly_icu_admissions_per_million', \n",
    "    'weekly_hosp_admissions', 'weekly_hosp_admissions_per_million', 'new_tests', 'total_tests', \n",
    "    'total_tests_per_thousand', 'new_tests_per_thousand', 'new_tests_smoothed', \n",
    "    'new_tests_smoothed_per_thousand', 'positive_rate', 'tests_per_case', 'tests_units', \n",
    "    'people_vaccinated', 'people_fully_vaccinated', 'total_vaccinations_per_hundred', \n",
    "    'people_vaccinated_per_hundred', 'people_fully_vaccinated_per_hundred', \n",
    "    'new_vaccinations_smoothed_per_million'\n",
    "]\n",
    "\n",
    "# Remove the specified tables\n",
    "clean = data.drop(kolonner_til_fjernelse, axis=1)"
   ]
  },
  {
   "cell_type": "code",
   "execution_count": 91,
   "metadata": {},
   "outputs": [],
   "source": [
    "# Set Total vaccinations to 0 if NaN\n",
    "clean['total_vaccinations'].fillna(0, inplace=True)"
   ]
  },
  {
   "cell_type": "code",
   "execution_count": 93,
   "metadata": {},
   "outputs": [],
   "source": [
    "# Set Total Deaths to 0 if NaN\n",
    "clean['total_deaths'].fillna(0, inplace=True)"
   ]
  },
  {
   "cell_type": "code",
   "execution_count": 94,
   "metadata": {},
   "outputs": [],
   "source": [
    "# Set new Vaccinations to 0 if NaN\n",
    "clean['new_vaccinations'].fillna(0, inplace=True) "
   ]
  },
  {
   "cell_type": "code",
   "execution_count": 112,
   "metadata": {},
   "outputs": [],
   "source": [
    "# Set new Vaccinations to 0 if NaN\n",
    "clean['new_cases'].fillna(0, inplace=True) "
   ]
  },
  {
   "cell_type": "code",
   "execution_count": 114,
   "metadata": {},
   "outputs": [],
   "source": [
    "# Set new Vaccinations to 0 if NaN\n",
    "clean['new_deaths'].fillna(0, inplace=True) "
   ]
  },
  {
   "cell_type": "code",
   "execution_count": 96,
   "metadata": {},
   "outputs": [],
   "source": [
    "# Set Total Cases to 0 if NaN\n",
    "clean['total_cases'].fillna(0, inplace=True)"
   ]
  },
  {
   "cell_type": "code",
   "execution_count": 95,
   "metadata": {},
   "outputs": [],
   "source": [
    "# Fix total_vaccinations weirdly high values (numE+09)\n",
    "# clean[clean['iso_code'].str.contains('OWID_')]['total_vaccinations']"
   ]
  },
  {
   "cell_type": "markdown",
   "metadata": {},
   "source": [
    "Next we fix OWID(Our World in Data) data, to have the same format as the other data sources."
   ]
  },
  {
   "cell_type": "code",
   "execution_count": 97,
   "metadata": {},
   "outputs": [
    {
     "name": "stderr",
     "output_type": "stream",
     "text": [
      "C:\\Users\\Cat\\AppData\\Local\\Temp\\ipykernel_3880\\1974715526.py:2: SettingWithCopyWarning: \n",
      "A value is trying to be set on a copy of a slice from a DataFrame\n",
      "\n",
      "See the caveats in the documentation: https://pandas.pydata.org/pandas-docs/stable/user_guide/indexing.html#returning-a-view-versus-a-copy\n",
      "  OWID_Rows['continent'].fillna(clean[clean['iso_code'].str.contains('OWID_')]['location'], inplace=True)\n",
      "C:\\Users\\Cat\\AppData\\Local\\Temp\\ipykernel_3880\\1974715526.py:3: SettingWithCopyWarning: \n",
      "A value is trying to be set on a copy of a slice from a DataFrame.\n",
      "Try using .loc[row_indexer,col_indexer] = value instead\n",
      "\n",
      "See the caveats in the documentation: https://pandas.pydata.org/pandas-docs/stable/user_guide/indexing.html#returning-a-view-versus-a-copy\n",
      "  OWID_Rows['location'] = 'Whole_Continent'\n"
     ]
    }
   ],
   "source": [
    "OWID_Rows = clean[clean['iso_code'].str.contains('OWID_')]\n",
    "OWID_Rows['continent'].fillna(clean[clean['iso_code'].str.contains('OWID_')]['location'], inplace=True)\n",
    "OWID_Rows['location'] = 'Whole_Continent'"
   ]
  },
  {
   "cell_type": "code",
   "execution_count": 107,
   "metadata": {},
   "outputs": [
    {
     "data": {
      "text/plain": [
       "Index(['iso_code', 'continent', 'location', 'date', 'total_cases', 'new_cases',\n",
       "       'total_deaths', 'new_deaths', 'total_vaccinations', 'new_vaccinations',\n",
       "       'stringency_index', 'population', 'population_density', 'median_age',\n",
       "       'aged_65_older', 'aged_70_older', 'gdp_per_capita', 'extreme_poverty',\n",
       "       'cardiovasc_death_rate', 'diabetes_prevalence', 'female_smokers',\n",
       "       'male_smokers', 'handwashing_facilities', 'hospital_beds_per_thousand',\n",
       "       'life_expectancy', 'human_development_index'],\n",
       "      dtype='object')"
      ]
     },
     "execution_count": 107,
     "metadata": {},
     "output_type": "execute_result"
    }
   ],
   "source": [
    "OWID_Rows.columns"
   ]
  },
  {
   "cell_type": "code",
   "execution_count": 119,
   "metadata": {},
   "outputs": [],
   "source": [
    "columns_to_fillna_with_avg = [\n",
    "    'stringency_index', 'population', 'population_density', 'median_age',\n",
    "    'aged_65_older', 'aged_70_older', 'gdp_per_capita', 'extreme_poverty',\n",
    "    'cardiovasc_death_rate', 'diabetes_prevalence', 'female_smokers',\n",
    "    'male_smokers', 'handwashing_facilities', 'hospital_beds_per_thousand',\n",
    "    'life_expectancy', 'human_development_index'\n",
    "    ]\n",
    "# there is 9 OWID \"continents\"\n",
    "continents = OWID_Rows['continent'].unique()\n",
    "\n",
    "for continent in continents:\n",
    "    for column in columns_to_fillna_with_avg:\n",
    "        OWID_Rows[column].fillna(clean[clean['continent'] == continent][column].mean(), inplace=True)"
   ]
  },
  {
   "cell_type": "code",
   "execution_count": 109,
   "metadata": {},
   "outputs": [
    {
     "data": {
      "text/html": [
       "<div>\n",
       "<style scoped>\n",
       "    .dataframe tbody tr th:only-of-type {\n",
       "        vertical-align: middle;\n",
       "    }\n",
       "\n",
       "    .dataframe tbody tr th {\n",
       "        vertical-align: top;\n",
       "    }\n",
       "\n",
       "    .dataframe thead th {\n",
       "        text-align: right;\n",
       "    }\n",
       "</style>\n",
       "<table border=\"1\" class=\"dataframe\">\n",
       "  <thead>\n",
       "    <tr style=\"text-align: right;\">\n",
       "      <th></th>\n",
       "      <th>iso_code</th>\n",
       "      <th>continent</th>\n",
       "      <th>location</th>\n",
       "      <th>date</th>\n",
       "      <th>total_cases</th>\n",
       "      <th>new_cases</th>\n",
       "      <th>total_deaths</th>\n",
       "      <th>new_deaths</th>\n",
       "      <th>total_vaccinations</th>\n",
       "      <th>new_vaccinations</th>\n",
       "      <th>...</th>\n",
       "      <th>gdp_per_capita</th>\n",
       "      <th>extreme_poverty</th>\n",
       "      <th>cardiovasc_death_rate</th>\n",
       "      <th>diabetes_prevalence</th>\n",
       "      <th>female_smokers</th>\n",
       "      <th>male_smokers</th>\n",
       "      <th>handwashing_facilities</th>\n",
       "      <th>hospital_beds_per_thousand</th>\n",
       "      <th>life_expectancy</th>\n",
       "      <th>human_development_index</th>\n",
       "    </tr>\n",
       "  </thead>\n",
       "  <tbody>\n",
       "    <tr>\n",
       "      <th>432</th>\n",
       "      <td>OWID_AFR</td>\n",
       "      <td>Africa</td>\n",
       "      <td>Whole_Continent</td>\n",
       "      <td>2020-02-13</td>\n",
       "      <td>0.0</td>\n",
       "      <td>0.0</td>\n",
       "      <td>0.0</td>\n",
       "      <td>0.0</td>\n",
       "      <td>0.000000e+00</td>\n",
       "      <td>0.0</td>\n",
       "      <td>...</td>\n",
       "      <td>5508.122067</td>\n",
       "      <td>33.720818</td>\n",
       "      <td>287.374602</td>\n",
       "      <td>5.647184</td>\n",
       "      <td>2.57387</td>\n",
       "      <td>27.424106</td>\n",
       "      <td>25.493713</td>\n",
       "      <td>1.506984</td>\n",
       "      <td>64.242507</td>\n",
       "      <td>0.562094</td>\n",
       "    </tr>\n",
       "    <tr>\n",
       "      <th>433</th>\n",
       "      <td>OWID_AFR</td>\n",
       "      <td>Africa</td>\n",
       "      <td>Whole_Continent</td>\n",
       "      <td>2020-02-14</td>\n",
       "      <td>1.0</td>\n",
       "      <td>1.0</td>\n",
       "      <td>0.0</td>\n",
       "      <td>0.0</td>\n",
       "      <td>0.000000e+00</td>\n",
       "      <td>0.0</td>\n",
       "      <td>...</td>\n",
       "      <td>5508.122067</td>\n",
       "      <td>33.720818</td>\n",
       "      <td>287.374602</td>\n",
       "      <td>5.647184</td>\n",
       "      <td>2.57387</td>\n",
       "      <td>27.424106</td>\n",
       "      <td>25.493713</td>\n",
       "      <td>1.506984</td>\n",
       "      <td>64.242507</td>\n",
       "      <td>0.562094</td>\n",
       "    </tr>\n",
       "    <tr>\n",
       "      <th>434</th>\n",
       "      <td>OWID_AFR</td>\n",
       "      <td>Africa</td>\n",
       "      <td>Whole_Continent</td>\n",
       "      <td>2020-02-15</td>\n",
       "      <td>1.0</td>\n",
       "      <td>0.0</td>\n",
       "      <td>0.0</td>\n",
       "      <td>0.0</td>\n",
       "      <td>0.000000e+00</td>\n",
       "      <td>0.0</td>\n",
       "      <td>...</td>\n",
       "      <td>5508.122067</td>\n",
       "      <td>33.720818</td>\n",
       "      <td>287.374602</td>\n",
       "      <td>5.647184</td>\n",
       "      <td>2.57387</td>\n",
       "      <td>27.424106</td>\n",
       "      <td>25.493713</td>\n",
       "      <td>1.506984</td>\n",
       "      <td>64.242507</td>\n",
       "      <td>0.562094</td>\n",
       "    </tr>\n",
       "    <tr>\n",
       "      <th>435</th>\n",
       "      <td>OWID_AFR</td>\n",
       "      <td>Africa</td>\n",
       "      <td>Whole_Continent</td>\n",
       "      <td>2020-02-16</td>\n",
       "      <td>1.0</td>\n",
       "      <td>0.0</td>\n",
       "      <td>0.0</td>\n",
       "      <td>0.0</td>\n",
       "      <td>0.000000e+00</td>\n",
       "      <td>0.0</td>\n",
       "      <td>...</td>\n",
       "      <td>5508.122067</td>\n",
       "      <td>33.720818</td>\n",
       "      <td>287.374602</td>\n",
       "      <td>5.647184</td>\n",
       "      <td>2.57387</td>\n",
       "      <td>27.424106</td>\n",
       "      <td>25.493713</td>\n",
       "      <td>1.506984</td>\n",
       "      <td>64.242507</td>\n",
       "      <td>0.562094</td>\n",
       "    </tr>\n",
       "    <tr>\n",
       "      <th>436</th>\n",
       "      <td>OWID_AFR</td>\n",
       "      <td>Africa</td>\n",
       "      <td>Whole_Continent</td>\n",
       "      <td>2020-02-17</td>\n",
       "      <td>1.0</td>\n",
       "      <td>0.0</td>\n",
       "      <td>0.0</td>\n",
       "      <td>0.0</td>\n",
       "      <td>0.000000e+00</td>\n",
       "      <td>0.0</td>\n",
       "      <td>...</td>\n",
       "      <td>5508.122067</td>\n",
       "      <td>33.720818</td>\n",
       "      <td>287.374602</td>\n",
       "      <td>5.647184</td>\n",
       "      <td>2.57387</td>\n",
       "      <td>27.424106</td>\n",
       "      <td>25.493713</td>\n",
       "      <td>1.506984</td>\n",
       "      <td>64.242507</td>\n",
       "      <td>0.562094</td>\n",
       "    </tr>\n",
       "    <tr>\n",
       "      <th>...</th>\n",
       "      <td>...</td>\n",
       "      <td>...</td>\n",
       "      <td>...</td>\n",
       "      <td>...</td>\n",
       "      <td>...</td>\n",
       "      <td>...</td>\n",
       "      <td>...</td>\n",
       "      <td>...</td>\n",
       "      <td>...</td>\n",
       "      <td>...</td>\n",
       "      <td>...</td>\n",
       "      <td>...</td>\n",
       "      <td>...</td>\n",
       "      <td>...</td>\n",
       "      <td>...</td>\n",
       "      <td>...</td>\n",
       "      <td>...</td>\n",
       "      <td>...</td>\n",
       "      <td>...</td>\n",
       "      <td>...</td>\n",
       "      <td>...</td>\n",
       "    </tr>\n",
       "    <tr>\n",
       "      <th>83964</th>\n",
       "      <td>OWID_WRL</td>\n",
       "      <td>World</td>\n",
       "      <td>Whole_Continent</td>\n",
       "      <td>2021-04-26</td>\n",
       "      <td>147872402.0</td>\n",
       "      <td>682784.0</td>\n",
       "      <td>3120469.0</td>\n",
       "      <td>11156.0</td>\n",
       "      <td>1.045371e+09</td>\n",
       "      <td>16393996.0</td>\n",
       "      <td>...</td>\n",
       "      <td>15469.207000</td>\n",
       "      <td>10.000000</td>\n",
       "      <td>233.070000</td>\n",
       "      <td>8.510000</td>\n",
       "      <td>6.43400</td>\n",
       "      <td>34.635000</td>\n",
       "      <td>60.130000</td>\n",
       "      <td>2.705000</td>\n",
       "      <td>72.580000</td>\n",
       "      <td>0.737000</td>\n",
       "    </tr>\n",
       "    <tr>\n",
       "      <th>83965</th>\n",
       "      <td>OWID_WRL</td>\n",
       "      <td>World</td>\n",
       "      <td>Whole_Continent</td>\n",
       "      <td>2021-04-27</td>\n",
       "      <td>148716872.0</td>\n",
       "      <td>844470.0</td>\n",
       "      <td>3134956.0</td>\n",
       "      <td>14487.0</td>\n",
       "      <td>1.065139e+09</td>\n",
       "      <td>19768227.0</td>\n",
       "      <td>...</td>\n",
       "      <td>15469.207000</td>\n",
       "      <td>10.000000</td>\n",
       "      <td>233.070000</td>\n",
       "      <td>8.510000</td>\n",
       "      <td>6.43400</td>\n",
       "      <td>34.635000</td>\n",
       "      <td>60.130000</td>\n",
       "      <td>2.705000</td>\n",
       "      <td>72.580000</td>\n",
       "      <td>0.737000</td>\n",
       "    </tr>\n",
       "    <tr>\n",
       "      <th>83966</th>\n",
       "      <td>OWID_WRL</td>\n",
       "      <td>World</td>\n",
       "      <td>Whole_Continent</td>\n",
       "      <td>2021-04-28</td>\n",
       "      <td>149622864.0</td>\n",
       "      <td>905992.0</td>\n",
       "      <td>3150675.0</td>\n",
       "      <td>15719.0</td>\n",
       "      <td>1.087697e+09</td>\n",
       "      <td>22557773.0</td>\n",
       "      <td>...</td>\n",
       "      <td>15469.207000</td>\n",
       "      <td>10.000000</td>\n",
       "      <td>233.070000</td>\n",
       "      <td>8.510000</td>\n",
       "      <td>6.43400</td>\n",
       "      <td>34.635000</td>\n",
       "      <td>60.130000</td>\n",
       "      <td>2.705000</td>\n",
       "      <td>72.580000</td>\n",
       "      <td>0.737000</td>\n",
       "    </tr>\n",
       "    <tr>\n",
       "      <th>83967</th>\n",
       "      <td>OWID_WRL</td>\n",
       "      <td>World</td>\n",
       "      <td>Whole_Continent</td>\n",
       "      <td>2021-04-29</td>\n",
       "      <td>150520466.0</td>\n",
       "      <td>897602.0</td>\n",
       "      <td>3165665.0</td>\n",
       "      <td>14990.0</td>\n",
       "      <td>1.112321e+09</td>\n",
       "      <td>24623727.0</td>\n",
       "      <td>...</td>\n",
       "      <td>15469.207000</td>\n",
       "      <td>10.000000</td>\n",
       "      <td>233.070000</td>\n",
       "      <td>8.510000</td>\n",
       "      <td>6.43400</td>\n",
       "      <td>34.635000</td>\n",
       "      <td>60.130000</td>\n",
       "      <td>2.705000</td>\n",
       "      <td>72.580000</td>\n",
       "      <td>0.737000</td>\n",
       "    </tr>\n",
       "    <tr>\n",
       "      <th>83968</th>\n",
       "      <td>OWID_WRL</td>\n",
       "      <td>World</td>\n",
       "      <td>Whole_Continent</td>\n",
       "      <td>2021-04-30</td>\n",
       "      <td>151399480.0</td>\n",
       "      <td>879014.0</td>\n",
       "      <td>3180238.0</td>\n",
       "      <td>14573.0</td>\n",
       "      <td>1.134333e+09</td>\n",
       "      <td>22012766.0</td>\n",
       "      <td>...</td>\n",
       "      <td>15469.207000</td>\n",
       "      <td>10.000000</td>\n",
       "      <td>233.070000</td>\n",
       "      <td>8.510000</td>\n",
       "      <td>6.43400</td>\n",
       "      <td>34.635000</td>\n",
       "      <td>60.130000</td>\n",
       "      <td>2.705000</td>\n",
       "      <td>72.580000</td>\n",
       "      <td>0.737000</td>\n",
       "    </tr>\n",
       "  </tbody>\n",
       "</table>\n",
       "<p>4624 rows × 26 columns</p>\n",
       "</div>"
      ],
      "text/plain": [
       "       iso_code continent         location       date  total_cases  new_cases  \\\n",
       "432    OWID_AFR    Africa  Whole_Continent 2020-02-13          0.0        0.0   \n",
       "433    OWID_AFR    Africa  Whole_Continent 2020-02-14          1.0        1.0   \n",
       "434    OWID_AFR    Africa  Whole_Continent 2020-02-15          1.0        0.0   \n",
       "435    OWID_AFR    Africa  Whole_Continent 2020-02-16          1.0        0.0   \n",
       "436    OWID_AFR    Africa  Whole_Continent 2020-02-17          1.0        0.0   \n",
       "...         ...       ...              ...        ...          ...        ...   \n",
       "83964  OWID_WRL     World  Whole_Continent 2021-04-26  147872402.0   682784.0   \n",
       "83965  OWID_WRL     World  Whole_Continent 2021-04-27  148716872.0   844470.0   \n",
       "83966  OWID_WRL     World  Whole_Continent 2021-04-28  149622864.0   905992.0   \n",
       "83967  OWID_WRL     World  Whole_Continent 2021-04-29  150520466.0   897602.0   \n",
       "83968  OWID_WRL     World  Whole_Continent 2021-04-30  151399480.0   879014.0   \n",
       "\n",
       "       total_deaths  new_deaths  total_vaccinations  new_vaccinations  ...  \\\n",
       "432             0.0         0.0        0.000000e+00               0.0  ...   \n",
       "433             0.0         0.0        0.000000e+00               0.0  ...   \n",
       "434             0.0         0.0        0.000000e+00               0.0  ...   \n",
       "435             0.0         0.0        0.000000e+00               0.0  ...   \n",
       "436             0.0         0.0        0.000000e+00               0.0  ...   \n",
       "...             ...         ...                 ...               ...  ...   \n",
       "83964     3120469.0     11156.0        1.045371e+09        16393996.0  ...   \n",
       "83965     3134956.0     14487.0        1.065139e+09        19768227.0  ...   \n",
       "83966     3150675.0     15719.0        1.087697e+09        22557773.0  ...   \n",
       "83967     3165665.0     14990.0        1.112321e+09        24623727.0  ...   \n",
       "83968     3180238.0     14573.0        1.134333e+09        22012766.0  ...   \n",
       "\n",
       "       gdp_per_capita  extreme_poverty  cardiovasc_death_rate  \\\n",
       "432       5508.122067        33.720818             287.374602   \n",
       "433       5508.122067        33.720818             287.374602   \n",
       "434       5508.122067        33.720818             287.374602   \n",
       "435       5508.122067        33.720818             287.374602   \n",
       "436       5508.122067        33.720818             287.374602   \n",
       "...               ...              ...                    ...   \n",
       "83964    15469.207000        10.000000             233.070000   \n",
       "83965    15469.207000        10.000000             233.070000   \n",
       "83966    15469.207000        10.000000             233.070000   \n",
       "83967    15469.207000        10.000000             233.070000   \n",
       "83968    15469.207000        10.000000             233.070000   \n",
       "\n",
       "       diabetes_prevalence  female_smokers  male_smokers  \\\n",
       "432               5.647184         2.57387     27.424106   \n",
       "433               5.647184         2.57387     27.424106   \n",
       "434               5.647184         2.57387     27.424106   \n",
       "435               5.647184         2.57387     27.424106   \n",
       "436               5.647184         2.57387     27.424106   \n",
       "...                    ...             ...           ...   \n",
       "83964             8.510000         6.43400     34.635000   \n",
       "83965             8.510000         6.43400     34.635000   \n",
       "83966             8.510000         6.43400     34.635000   \n",
       "83967             8.510000         6.43400     34.635000   \n",
       "83968             8.510000         6.43400     34.635000   \n",
       "\n",
       "       handwashing_facilities  hospital_beds_per_thousand  life_expectancy  \\\n",
       "432                 25.493713                    1.506984        64.242507   \n",
       "433                 25.493713                    1.506984        64.242507   \n",
       "434                 25.493713                    1.506984        64.242507   \n",
       "435                 25.493713                    1.506984        64.242507   \n",
       "436                 25.493713                    1.506984        64.242507   \n",
       "...                       ...                         ...              ...   \n",
       "83964               60.130000                    2.705000        72.580000   \n",
       "83965               60.130000                    2.705000        72.580000   \n",
       "83966               60.130000                    2.705000        72.580000   \n",
       "83967               60.130000                    2.705000        72.580000   \n",
       "83968               60.130000                    2.705000        72.580000   \n",
       "\n",
       "       human_development_index  \n",
       "432                   0.562094  \n",
       "433                   0.562094  \n",
       "434                   0.562094  \n",
       "435                   0.562094  \n",
       "436                   0.562094  \n",
       "...                        ...  \n",
       "83964                 0.737000  \n",
       "83965                 0.737000  \n",
       "83966                 0.737000  \n",
       "83967                 0.737000  \n",
       "83968                 0.737000  \n",
       "\n",
       "[4624 rows x 26 columns]"
      ]
     },
     "execution_count": 109,
     "metadata": {},
     "output_type": "execute_result"
    }
   ],
   "source": [
    "OWID_Rows"
   ]
  },
  {
   "cell_type": "code",
   "execution_count": 110,
   "metadata": {},
   "outputs": [],
   "source": [
    "# Add OWID data back into DataFrame\n",
    "clean = clean.drop(OWID_Rows.index)\n",
    "clean = pd.concat([clean, OWID_Rows], ignore_index=False)"
   ]
  },
  {
   "cell_type": "code",
   "execution_count": 136,
   "metadata": {},
   "outputs": [],
   "source": [
    "# Remove countries with almost no data\n",
    "countries_to_remove = [\n",
    "    'Anguilla', 'Vatican', 'Antigua and Barbuda',\n",
    "    'Cayman Islands', 'Curacao', 'Dominica', \n",
    "    'Falkland Islands', 'Guernsey', 'Isle of Man', \n",
    "    'Jersey', 'Liechtenstein', 'Marshall Islands',\n",
    "    'Montserrat', 'Northern Cyprus', 'Saint Kitts and Nevis', \n",
    "    'Saint Helena', 'Saint Lucia', 'Saint Vincent and the Grenadines',\n",
    "    'Turks and Caicos Islands', \n",
    "    ]\n",
    "clean = clean[~clean['location'].isin(countries_to_remove)]"
   ]
  },
  {
   "cell_type": "code",
   "execution_count": 137,
   "metadata": {},
   "outputs": [],
   "source": [
    "# fillna stringency_index foreach country with the mean of the stringency_index for the country\n",
    "countries_names = clean['location'].unique()\n",
    "for country in countries_names:\n",
    "    contry_rows = clean[clean['location'] == country]\n",
    "    clean = clean.drop(contry_rows.index)\n",
    "    mean = contry_rows['stringency_index'].mean()\n",
    "    cleaned = contry_rows.fillna(mean, inplace=False)\n",
    "    clean = pd.concat([clean, cleaned], ignore_index=False)\n"
   ]
  },
  {
   "cell_type": "code",
   "execution_count": 138,
   "metadata": {},
   "outputs": [],
   "source": [
    "# Set the rest of stringency_index nan to 0\n",
    "clean['stringency_index'].fillna(0, inplace=True)"
   ]
  },
  {
   "cell_type": "code",
   "execution_count": 142,
   "metadata": {},
   "outputs": [
    {
     "data": {
      "text/plain": [
       "iso_code                         0\n",
       "continent                        0\n",
       "location                         0\n",
       "date                             0\n",
       "total_cases                      0\n",
       "new_cases                        0\n",
       "total_deaths                     0\n",
       "new_deaths                       0\n",
       "total_vaccinations               0\n",
       "new_vaccinations                 0\n",
       "stringency_index                 0\n",
       "population                       0\n",
       "population_density               0\n",
       "median_age                     119\n",
       "aged_65_older                  119\n",
       "aged_70_older                  119\n",
       "gdp_per_capita                 111\n",
       "extreme_poverty               1519\n",
       "cardiovasc_death_rate          119\n",
       "diabetes_prevalence            111\n",
       "female_smokers                2250\n",
       "male_smokers                  2250\n",
       "handwashing_facilities        1628\n",
       "hospital_beds_per_thousand    1196\n",
       "life_expectancy                  0\n",
       "human_development_index        119\n",
       "dtype: int64"
      ]
     },
     "execution_count": 142,
     "metadata": {},
     "output_type": "execute_result"
    }
   ],
   "source": [
    "#Vi mangler noget her :))\n",
    "clean.isnull().sum()"
   ]
  },
  {
   "cell_type": "code",
   "execution_count": 102,
   "metadata": {},
   "outputs": [],
   "source": [
    "#Removing the rows with missing values"
   ]
  },
  {
   "cell_type": "code",
   "execution_count": 103,
   "metadata": {},
   "outputs": [],
   "source": [
    "#Replace all the countries with only a name, but no value"
   ]
  },
  {
   "cell_type": "code",
   "execution_count": 92,
   "metadata": {},
   "outputs": [],
   "source": [
    "# Save the updated sheet\n",
    "# clean.to_excel(\".\\Data\\CovidDeaths_cleaned.xlsx\", index=False)"
   ]
  },
  {
   "cell_type": "markdown",
   "metadata": {},
   "source": [
    "### Methods"
   ]
  },
  {
   "cell_type": "code",
   "execution_count": 104,
   "metadata": {},
   "outputs": [],
   "source": [
    "#Removing all duplicates (if any)\n",
    "def removeDuplicates(df):\n",
    "    df.drop_duplicates(inplace=True)\n",
    "    return df"
   ]
  },
  {
   "cell_type": "markdown",
   "metadata": {},
   "source": [
    "### Exploring the data"
   ]
  },
  {
   "cell_type": "code",
   "execution_count": 105,
   "metadata": {},
   "outputs": [
    {
     "data": {
      "text/plain": [
       "(85171, 59)"
      ]
     },
     "execution_count": 105,
     "metadata": {},
     "output_type": "execute_result"
    }
   ],
   "source": [
    "# hvor mange kolonner/rækker har vi?\n",
    "data.shape"
   ]
  },
  {
   "cell_type": "code",
   "execution_count": 106,
   "metadata": {},
   "outputs": [],
   "source": [
    "#samlet shape når vi har aggregated to data sæt (data + et given lands data)\n",
    "#showShape(combined_data)"
   ]
  }
 ],
 "metadata": {
  "kernelspec": {
   "display_name": "base",
   "language": "python",
   "name": "python3"
  },
  "language_info": {
   "codemirror_mode": {
    "name": "ipython",
    "version": 3
   },
   "file_extension": ".py",
   "mimetype": "text/x-python",
   "name": "python",
   "nbconvert_exporter": "python",
   "pygments_lexer": "ipython3",
   "version": "3.11.5"
  }
 },
 "nbformat": 4,
 "nbformat_minor": 2
}
