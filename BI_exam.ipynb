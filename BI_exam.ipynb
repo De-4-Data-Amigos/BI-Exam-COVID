{
 "cells": [
  {
   "cell_type": "code",
   "execution_count": 378,
   "metadata": {},
   "outputs": [],
   "source": [
    "import pandas as pd\n",
    "import numpy as np\n",
    "import math\n",
    "import seaborn as sns\n",
    "import matplotlib.pyplot as plt\n",
    "from sklearn import metrics\n",
    "from sklearn.cluster import KMeans\n",
    "from scipy.spatial.distance import cdist\n",
    "from sklearn import preprocessing as prep\n",
    "from sklearn.preprocessing import StandardScaler\n",
    "from sklearn.decomposition import PCA"
   ]
  },
  {
   "cell_type": "markdown",
   "metadata": {},
   "source": [
    "# Load and clean the data"
   ]
  },
  {
   "cell_type": "code",
   "execution_count": 379,
   "metadata": {},
   "outputs": [],
   "source": [
    "# Load the data\n",
    "df = pd.read_csv(\"./Data/owid-covid-data.csv\")"
   ]
  },
  {
   "cell_type": "code",
   "execution_count": 380,
   "metadata": {},
   "outputs": [
    {
     "data": {
      "text/html": [
       "<div>\n",
       "<style scoped>\n",
       "    .dataframe tbody tr th:only-of-type {\n",
       "        vertical-align: middle;\n",
       "    }\n",
       "\n",
       "    .dataframe tbody tr th {\n",
       "        vertical-align: top;\n",
       "    }\n",
       "\n",
       "    .dataframe thead th {\n",
       "        text-align: right;\n",
       "    }\n",
       "</style>\n",
       "<table border=\"1\" class=\"dataframe\">\n",
       "  <thead>\n",
       "    <tr style=\"text-align: right;\">\n",
       "      <th></th>\n",
       "      <th>iso_code</th>\n",
       "      <th>continent</th>\n",
       "      <th>location</th>\n",
       "      <th>date</th>\n",
       "      <th>total_cases</th>\n",
       "      <th>new_cases</th>\n",
       "      <th>new_cases_smoothed</th>\n",
       "      <th>total_deaths</th>\n",
       "      <th>new_deaths</th>\n",
       "      <th>new_deaths_smoothed</th>\n",
       "      <th>...</th>\n",
       "      <th>male_smokers</th>\n",
       "      <th>handwashing_facilities</th>\n",
       "      <th>hospital_beds_per_thousand</th>\n",
       "      <th>life_expectancy</th>\n",
       "      <th>human_development_index</th>\n",
       "      <th>population</th>\n",
       "      <th>excess_mortality_cumulative_absolute</th>\n",
       "      <th>excess_mortality_cumulative</th>\n",
       "      <th>excess_mortality</th>\n",
       "      <th>excess_mortality_cumulative_per_million</th>\n",
       "    </tr>\n",
       "  </thead>\n",
       "  <tbody>\n",
       "    <tr>\n",
       "      <th>275842</th>\n",
       "      <td>REU</td>\n",
       "      <td>Africa</td>\n",
       "      <td>Reunion</td>\n",
       "      <td>2020-07-30</td>\n",
       "      <td>657.0</td>\n",
       "      <td>0.0</td>\n",
       "      <td>4.714</td>\n",
       "      <td>3.0</td>\n",
       "      <td>0.0</td>\n",
       "      <td>0.000</td>\n",
       "      <td>...</td>\n",
       "      <td>NaN</td>\n",
       "      <td>NaN</td>\n",
       "      <td>NaN</td>\n",
       "      <td>80.48</td>\n",
       "      <td>NaN</td>\n",
       "      <td>974062.0</td>\n",
       "      <td>NaN</td>\n",
       "      <td>NaN</td>\n",
       "      <td>NaN</td>\n",
       "      <td>NaN</td>\n",
       "    </tr>\n",
       "    <tr>\n",
       "      <th>213840</th>\n",
       "      <td>MEX</td>\n",
       "      <td>North America</td>\n",
       "      <td>Mexico</td>\n",
       "      <td>2021-07-22</td>\n",
       "      <td>2699332.0</td>\n",
       "      <td>0.0</td>\n",
       "      <td>11216.429</td>\n",
       "      <td>242896.0</td>\n",
       "      <td>0.0</td>\n",
       "      <td>208.571</td>\n",
       "      <td>...</td>\n",
       "      <td>21.4</td>\n",
       "      <td>87.847</td>\n",
       "      <td>1.38</td>\n",
       "      <td>75.05</td>\n",
       "      <td>0.779</td>\n",
       "      <td>127504120.0</td>\n",
       "      <td>NaN</td>\n",
       "      <td>NaN</td>\n",
       "      <td>NaN</td>\n",
       "      <td>NaN</td>\n",
       "    </tr>\n",
       "    <tr>\n",
       "      <th>115602</th>\n",
       "      <td>FRA</td>\n",
       "      <td>Europe</td>\n",
       "      <td>France</td>\n",
       "      <td>2023-02-25</td>\n",
       "      <td>38400087.0</td>\n",
       "      <td>0.0</td>\n",
       "      <td>3445.143</td>\n",
       "      <td>165091.0</td>\n",
       "      <td>0.0</td>\n",
       "      <td>25.714</td>\n",
       "      <td>...</td>\n",
       "      <td>35.6</td>\n",
       "      <td>NaN</td>\n",
       "      <td>5.98</td>\n",
       "      <td>82.66</td>\n",
       "      <td>0.901</td>\n",
       "      <td>67813000.0</td>\n",
       "      <td>NaN</td>\n",
       "      <td>NaN</td>\n",
       "      <td>NaN</td>\n",
       "      <td>NaN</td>\n",
       "    </tr>\n",
       "    <tr>\n",
       "      <th>111127</th>\n",
       "      <td>FLK</td>\n",
       "      <td>South America</td>\n",
       "      <td>Falkland Islands</td>\n",
       "      <td>2023-04-09</td>\n",
       "      <td>1923.0</td>\n",
       "      <td>0.0</td>\n",
       "      <td>0.000</td>\n",
       "      <td>NaN</td>\n",
       "      <td>0.0</td>\n",
       "      <td>0.000</td>\n",
       "      <td>...</td>\n",
       "      <td>NaN</td>\n",
       "      <td>NaN</td>\n",
       "      <td>NaN</td>\n",
       "      <td>81.44</td>\n",
       "      <td>NaN</td>\n",
       "      <td>3801.0</td>\n",
       "      <td>NaN</td>\n",
       "      <td>NaN</td>\n",
       "      <td>NaN</td>\n",
       "      <td>NaN</td>\n",
       "    </tr>\n",
       "    <tr>\n",
       "      <th>63718</th>\n",
       "      <td>TCD</td>\n",
       "      <td>Africa</td>\n",
       "      <td>Chad</td>\n",
       "      <td>2021-01-25</td>\n",
       "      <td>3137.0</td>\n",
       "      <td>0.0</td>\n",
       "      <td>40.286</td>\n",
       "      <td>116.0</td>\n",
       "      <td>0.0</td>\n",
       "      <td>0.571</td>\n",
       "      <td>...</td>\n",
       "      <td>NaN</td>\n",
       "      <td>5.818</td>\n",
       "      <td>NaN</td>\n",
       "      <td>54.24</td>\n",
       "      <td>0.398</td>\n",
       "      <td>17723312.0</td>\n",
       "      <td>NaN</td>\n",
       "      <td>NaN</td>\n",
       "      <td>NaN</td>\n",
       "      <td>NaN</td>\n",
       "    </tr>\n",
       "  </tbody>\n",
       "</table>\n",
       "<p>5 rows × 67 columns</p>\n",
       "</div>"
      ],
      "text/plain": [
       "       iso_code      continent          location        date  total_cases  \\\n",
       "275842      REU         Africa           Reunion  2020-07-30        657.0   \n",
       "213840      MEX  North America            Mexico  2021-07-22    2699332.0   \n",
       "115602      FRA         Europe            France  2023-02-25   38400087.0   \n",
       "111127      FLK  South America  Falkland Islands  2023-04-09       1923.0   \n",
       "63718       TCD         Africa              Chad  2021-01-25       3137.0   \n",
       "\n",
       "        new_cases  new_cases_smoothed  total_deaths  new_deaths  \\\n",
       "275842        0.0               4.714           3.0         0.0   \n",
       "213840        0.0           11216.429      242896.0         0.0   \n",
       "115602        0.0            3445.143      165091.0         0.0   \n",
       "111127        0.0               0.000           NaN         0.0   \n",
       "63718         0.0              40.286         116.0         0.0   \n",
       "\n",
       "        new_deaths_smoothed  ...  male_smokers  handwashing_facilities  \\\n",
       "275842                0.000  ...           NaN                     NaN   \n",
       "213840              208.571  ...          21.4                  87.847   \n",
       "115602               25.714  ...          35.6                     NaN   \n",
       "111127                0.000  ...           NaN                     NaN   \n",
       "63718                 0.571  ...           NaN                   5.818   \n",
       "\n",
       "        hospital_beds_per_thousand  life_expectancy  human_development_index  \\\n",
       "275842                         NaN            80.48                      NaN   \n",
       "213840                        1.38            75.05                    0.779   \n",
       "115602                        5.98            82.66                    0.901   \n",
       "111127                         NaN            81.44                      NaN   \n",
       "63718                          NaN            54.24                    0.398   \n",
       "\n",
       "         population  excess_mortality_cumulative_absolute  \\\n",
       "275842     974062.0                                   NaN   \n",
       "213840  127504120.0                                   NaN   \n",
       "115602   67813000.0                                   NaN   \n",
       "111127       3801.0                                   NaN   \n",
       "63718    17723312.0                                   NaN   \n",
       "\n",
       "        excess_mortality_cumulative  excess_mortality  \\\n",
       "275842                          NaN               NaN   \n",
       "213840                          NaN               NaN   \n",
       "115602                          NaN               NaN   \n",
       "111127                          NaN               NaN   \n",
       "63718                           NaN               NaN   \n",
       "\n",
       "        excess_mortality_cumulative_per_million  \n",
       "275842                                      NaN  \n",
       "213840                                      NaN  \n",
       "115602                                      NaN  \n",
       "111127                                      NaN  \n",
       "63718                                       NaN  \n",
       "\n",
       "[5 rows x 67 columns]"
      ]
     },
     "execution_count": 380,
     "metadata": {},
     "output_type": "execute_result"
    }
   ],
   "source": [
    "df.sample(5)"
   ]
  },
  {
   "cell_type": "code",
   "execution_count": 381,
   "metadata": {},
   "outputs": [
    {
     "data": {
      "text/plain": [
       "Index(['iso_code', 'continent', 'location', 'date', 'total_cases', 'new_cases',\n",
       "       'new_cases_smoothed', 'total_deaths', 'new_deaths',\n",
       "       'new_deaths_smoothed', 'total_cases_per_million',\n",
       "       'new_cases_per_million', 'new_cases_smoothed_per_million',\n",
       "       'total_deaths_per_million', 'new_deaths_per_million',\n",
       "       'new_deaths_smoothed_per_million', 'reproduction_rate', 'icu_patients',\n",
       "       'icu_patients_per_million', 'hosp_patients',\n",
       "       'hosp_patients_per_million', 'weekly_icu_admissions',\n",
       "       'weekly_icu_admissions_per_million', 'weekly_hosp_admissions',\n",
       "       'weekly_hosp_admissions_per_million', 'total_tests', 'new_tests',\n",
       "       'total_tests_per_thousand', 'new_tests_per_thousand',\n",
       "       'new_tests_smoothed', 'new_tests_smoothed_per_thousand',\n",
       "       'positive_rate', 'tests_per_case', 'tests_units', 'total_vaccinations',\n",
       "       'people_vaccinated', 'people_fully_vaccinated', 'total_boosters',\n",
       "       'new_vaccinations', 'new_vaccinations_smoothed',\n",
       "       'total_vaccinations_per_hundred', 'people_vaccinated_per_hundred',\n",
       "       'people_fully_vaccinated_per_hundred', 'total_boosters_per_hundred',\n",
       "       'new_vaccinations_smoothed_per_million',\n",
       "       'new_people_vaccinated_smoothed',\n",
       "       'new_people_vaccinated_smoothed_per_hundred', 'stringency_index',\n",
       "       'population_density', 'median_age', 'aged_65_older', 'aged_70_older',\n",
       "       'gdp_per_capita', 'extreme_poverty', 'cardiovasc_death_rate',\n",
       "       'diabetes_prevalence', 'female_smokers', 'male_smokers',\n",
       "       'handwashing_facilities', 'hospital_beds_per_thousand',\n",
       "       'life_expectancy', 'human_development_index', 'population',\n",
       "       'excess_mortality_cumulative_absolute', 'excess_mortality_cumulative',\n",
       "       'excess_mortality', 'excess_mortality_cumulative_per_million'],\n",
       "      dtype='object')"
      ]
     },
     "execution_count": 381,
     "metadata": {},
     "output_type": "execute_result"
    }
   ],
   "source": [
    "df.columns"
   ]
  },
  {
   "cell_type": "code",
   "execution_count": 382,
   "metadata": {},
   "outputs": [],
   "source": [
    "columns_to_keep = ['iso_code','location', 'total_cases', 'gdp_per_capita', 'population_density', 'population', 'date']"
   ]
  },
  {
   "cell_type": "code",
   "execution_count": 383,
   "metadata": {},
   "outputs": [],
   "source": [
    "data = df[columns_to_keep]"
   ]
  },
  {
   "cell_type": "code",
   "execution_count": 384,
   "metadata": {},
   "outputs": [
    {
     "data": {
      "text/html": [
       "<div>\n",
       "<style scoped>\n",
       "    .dataframe tbody tr th:only-of-type {\n",
       "        vertical-align: middle;\n",
       "    }\n",
       "\n",
       "    .dataframe tbody tr th {\n",
       "        vertical-align: top;\n",
       "    }\n",
       "\n",
       "    .dataframe thead th {\n",
       "        text-align: right;\n",
       "    }\n",
       "</style>\n",
       "<table border=\"1\" class=\"dataframe\">\n",
       "  <thead>\n",
       "    <tr style=\"text-align: right;\">\n",
       "      <th></th>\n",
       "      <th>iso_code</th>\n",
       "      <th>location</th>\n",
       "      <th>total_cases</th>\n",
       "      <th>gdp_per_capita</th>\n",
       "      <th>population_density</th>\n",
       "      <th>population</th>\n",
       "      <th>date</th>\n",
       "    </tr>\n",
       "  </thead>\n",
       "  <tbody>\n",
       "    <tr>\n",
       "      <th>362587</th>\n",
       "      <td>OWID_UMC</td>\n",
       "      <td>Upper middle income</td>\n",
       "      <td>244733529.0</td>\n",
       "      <td>NaN</td>\n",
       "      <td>NaN</td>\n",
       "      <td>2.525921e+09</td>\n",
       "      <td>2023-12-13</td>\n",
       "    </tr>\n",
       "    <tr>\n",
       "      <th>270298</th>\n",
       "      <td>POL</td>\n",
       "      <td>Poland</td>\n",
       "      <td>3346573.0</td>\n",
       "      <td>27216.445</td>\n",
       "      <td>124.027</td>\n",
       "      <td>3.985714e+07</td>\n",
       "      <td>2021-11-22</td>\n",
       "    </tr>\n",
       "    <tr>\n",
       "      <th>13631</th>\n",
       "      <td>ARG</td>\n",
       "      <td>Argentina</td>\n",
       "      <td>131.0</td>\n",
       "      <td>18933.907</td>\n",
       "      <td>16.177</td>\n",
       "      <td>4.551032e+07</td>\n",
       "      <td>2020-03-18</td>\n",
       "    </tr>\n",
       "    <tr>\n",
       "      <th>214202</th>\n",
       "      <td>MEX</td>\n",
       "      <td>Mexico</td>\n",
       "      <td>6579167.0</td>\n",
       "      <td>17336.469</td>\n",
       "      <td>66.444</td>\n",
       "      <td>1.275041e+08</td>\n",
       "      <td>2022-07-19</td>\n",
       "    </tr>\n",
       "    <tr>\n",
       "      <th>152365</th>\n",
       "      <td>IND</td>\n",
       "      <td>India</td>\n",
       "      <td>3542733.0</td>\n",
       "      <td>6426.674</td>\n",
       "      <td>450.419</td>\n",
       "      <td>1.417173e+09</td>\n",
       "      <td>2020-09-04</td>\n",
       "    </tr>\n",
       "  </tbody>\n",
       "</table>\n",
       "</div>"
      ],
      "text/plain": [
       "        iso_code             location  total_cases  gdp_per_capita  \\\n",
       "362587  OWID_UMC  Upper middle income  244733529.0             NaN   \n",
       "270298       POL               Poland    3346573.0       27216.445   \n",
       "13631        ARG            Argentina        131.0       18933.907   \n",
       "214202       MEX               Mexico    6579167.0       17336.469   \n",
       "152365       IND                India    3542733.0        6426.674   \n",
       "\n",
       "        population_density    population        date  \n",
       "362587                 NaN  2.525921e+09  2023-12-13  \n",
       "270298             124.027  3.985714e+07  2021-11-22  \n",
       "13631               16.177  4.551032e+07  2020-03-18  \n",
       "214202              66.444  1.275041e+08  2022-07-19  \n",
       "152365             450.419  1.417173e+09  2020-09-04  "
      ]
     },
     "execution_count": 384,
     "metadata": {},
     "output_type": "execute_result"
    }
   ],
   "source": [
    "data.sample(5)"
   ]
  },
  {
   "cell_type": "code",
   "execution_count": 385,
   "metadata": {},
   "outputs": [
    {
     "data": {
      "text/plain": [
       "iso_code               0.000000\n",
       "location               0.000000\n",
       "total_cases           10.239973\n",
       "gdp_per_capita        22.533775\n",
       "population_density    15.012879\n",
       "population             0.000000\n",
       "date                   0.000000\n",
       "dtype: float64"
      ]
     },
     "execution_count": 385,
     "metadata": {},
     "output_type": "execute_result"
    }
   ],
   "source": [
    "# get the percentage of missing values\n",
    "missing_values = (data.isnull().sum()/data.shape[0])*100\n",
    "missing_values"
   ]
  },
  {
   "cell_type": "code",
   "execution_count": 388,
   "metadata": {},
   "outputs": [
    {
     "data": {
      "text/plain": [
       "iso_code               0.000000\n",
       "location               0.000000\n",
       "total_cases            0.000000\n",
       "gdp_per_capita        20.135519\n",
       "population_density    12.718264\n",
       "population             0.000000\n",
       "date                   0.000000\n",
       "dtype: float64"
      ]
     },
     "execution_count": 388,
     "metadata": {},
     "output_type": "execute_result"
    }
   ],
   "source": [
    "# remove the rows with missing values in the total_cases column, because we can't get that data from anywhere else\n",
    "data = data.dropna(subset=['total_cases'])\n",
    "missing_values = (data.isnull().sum()/data.shape[0])*100\n",
    "missing_values"
   ]
  },
  {
   "cell_type": "code",
   "execution_count": 389,
   "metadata": {},
   "outputs": [],
   "source": [
    "# turn the date column into a datetime object\n",
    "data['date'] = pd.to_datetime(data['date'])"
   ]
  },
  {
   "cell_type": "code",
   "execution_count": 390,
   "metadata": {},
   "outputs": [
    {
     "data": {
      "text/plain": [
       "array(['AFG', 'OWID_AFR', 'ALB', 'DZA', 'ASM', 'AND', 'AGO', 'AIA', 'ATG',\n",
       "       'ARG', 'ARM', 'ABW', 'OWID_ASI', 'AUS', 'AUT', 'AZE', 'BHS', 'BHR',\n",
       "       'BGD', 'BRB', 'BLR', 'BEL', 'BLZ', 'BEN', 'BMU', 'BTN', 'BOL',\n",
       "       'BES', 'BIH', 'BWA', 'BRA', 'VGB', 'BRN', 'BGR', 'BFA', 'BDI',\n",
       "       'KHM', 'CMR', 'CAN', 'CPV', 'CYM', 'CAF', 'TCD', 'CHL', 'CHN',\n",
       "       'COL', 'COM', 'COG', 'COK', 'CRI', 'CIV', 'HRV', 'CUB', 'CUW',\n",
       "       'CYP', 'CZE', 'COD', 'DNK', 'DJI', 'DMA', 'DOM', 'ECU', 'EGY',\n",
       "       'SLV', 'GNQ', 'ERI', 'EST', 'SWZ', 'ETH', 'OWID_EUR', 'OWID_EUN',\n",
       "       'FRO', 'FLK', 'FJI', 'FIN', 'FRA', 'GUF', 'PYF', 'GAB', 'GMB',\n",
       "       'GEO', 'DEU', 'GHA', 'GIB', 'GRC', 'GRL', 'GRD', 'GLP', 'GUM',\n",
       "       'GTM', 'GGY', 'GIN', 'GNB', 'GUY', 'HTI', 'OWID_HIC', 'HND', 'HUN',\n",
       "       'ISL', 'IND', 'IDN', 'IRN', 'IRQ', 'IRL', 'IMN', 'ISR', 'ITA',\n",
       "       'JAM', 'JPN', 'JEY', 'JOR', 'KAZ', 'KEN', 'KIR', 'OWID_KOS', 'KWT',\n",
       "       'KGZ', 'LAO', 'LVA', 'LBN', 'LSO', 'LBR', 'LBY', 'LIE', 'LTU',\n",
       "       'OWID_LIC', 'OWID_LMC', 'LUX', 'MDG', 'MWI', 'MYS', 'MDV', 'MLI',\n",
       "       'MLT', 'MHL', 'MTQ', 'MRT', 'MUS', 'MYT', 'MEX', 'FSM', 'MDA',\n",
       "       'MCO', 'MNG', 'MNE', 'MSR', 'MAR', 'MOZ', 'MMR', 'NAM', 'NRU',\n",
       "       'NPL', 'NLD', 'NCL', 'NZL', 'NIC', 'NER', 'NGA', 'NIU', 'OWID_NAM',\n",
       "       'MKD', 'MNP', 'NOR', 'OWID_OCE', 'OMN', 'PAK', 'PLW', 'PSE', 'PAN',\n",
       "       'PNG', 'PRY', 'PER', 'PHL', 'PCN', 'POL', 'PRT', 'PRI', 'QAT',\n",
       "       'REU', 'ROU', 'RUS', 'RWA', 'BLM', 'SHN', 'KNA', 'LCA', 'MAF',\n",
       "       'SPM', 'VCT', 'WSM', 'SMR', 'STP', 'SAU', 'SEN', 'SRB', 'SYC',\n",
       "       'SLE', 'SGP', 'SXM', 'SVK', 'SVN', 'SLB', 'SOM', 'ZAF', 'OWID_SAM',\n",
       "       'KOR', 'SSD', 'ESP', 'LKA', 'SDN', 'SUR', 'SWE', 'CHE', 'SYR',\n",
       "       'TJK', 'TZA', 'THA', 'TLS', 'TGO', 'TKL', 'TON', 'TTO', 'TUN',\n",
       "       'TUR', 'TCA', 'TUV', 'UGA', 'UKR', 'ARE', 'GBR', 'USA', 'VIR',\n",
       "       'OWID_UMC', 'URY', 'UZB', 'VUT', 'VAT', 'VEN', 'VNM', 'WLF',\n",
       "       'OWID_WRL', 'YEM', 'ZMB', 'ZWE'], dtype=object)"
      ]
     },
     "execution_count": 390,
     "metadata": {},
     "output_type": "execute_result"
    }
   ],
   "source": [
    "iso_codes = data['iso_code'].unique()\n",
    "iso_codes"
   ]
  },
  {
   "cell_type": "code",
   "execution_count": 391,
   "metadata": {},
   "outputs": [
    {
     "data": {
      "text/plain": [
       "array(['OWID_AFR', 'OWID_ASI', 'OWID_EUR', 'OWID_EUN', 'OWID_HIC',\n",
       "       'OWID_KOS', 'OWID_LIC', 'OWID_LMC', 'OWID_NAM', 'OWID_OCE',\n",
       "       'OWID_SAM', 'OWID_UMC', 'OWID_WRL'], dtype=object)"
      ]
     },
     "execution_count": 391,
     "metadata": {},
     "output_type": "execute_result"
    }
   ],
   "source": [
    "iso_codes_owid = data[data['iso_code'].str.contains('OWID')]['iso_code'].unique()\n",
    "iso_codes_owid"
   ]
  },
  {
   "cell_type": "code",
   "execution_count": 392,
   "metadata": {},
   "outputs": [],
   "source": [
    "# remove owid extra columns\n",
    "data = data[~data['iso_code'].str.contains('OWID')]"
   ]
  },
  {
   "cell_type": "code",
   "execution_count": 393,
   "metadata": {},
   "outputs": [
    {
     "data": {
      "text/plain": [
       "array([], dtype=object)"
      ]
     },
     "execution_count": 393,
     "metadata": {},
     "output_type": "execute_result"
    }
   ],
   "source": [
    "iso_codes_owid = data[data['iso_code'].str.contains('OWID')]['iso_code'].unique()\n",
    "iso_codes_owid"
   ]
  },
  {
   "cell_type": "code",
   "execution_count": 394,
   "metadata": {},
   "outputs": [
    {
     "data": {
      "text/plain": [
       "array(['AIA', 'BES', 'COK', 'FLK', 'GUF', 'GLP', 'GGY', 'JEY', 'MTQ',\n",
       "       'MYT', 'MSR', 'NIU', 'PCN', 'REU', 'BLM', 'SHN', 'SPM', 'SSD',\n",
       "       'SYR', 'TKL', 'VAT', 'WLF'], dtype=object)"
      ]
     },
     "execution_count": 394,
     "metadata": {},
     "output_type": "execute_result"
    }
   ],
   "source": [
    "# find any countries that doesnt have any data in the population_density column\n",
    "missing_population_density = data[data['population_density'].isnull()]['iso_code'].unique()\n",
    "missing_population_density"
   ]
  },
  {
   "cell_type": "code",
   "execution_count": 395,
   "metadata": {},
   "outputs": [],
   "source": [
    "# load another dataset to fill in the missing population density\n",
    "pop_density = pd.read_csv(\"./Data/population-density.csv\")"
   ]
  },
  {
   "cell_type": "code",
   "execution_count": 396,
   "metadata": {},
   "outputs": [
    {
     "data": {
      "text/plain": [
       "2020"
      ]
     },
     "execution_count": 396,
     "metadata": {},
     "output_type": "execute_result"
    }
   ],
   "source": [
    "# get the first year of the dataset\n",
    "first_year = data['date'].min().year\n",
    "first_year"
   ]
  },
  {
   "cell_type": "code",
   "execution_count": 397,
   "metadata": {},
   "outputs": [
    {
     "data": {
      "text/plain": [
       "2024"
      ]
     },
     "execution_count": 397,
     "metadata": {},
     "output_type": "execute_result"
    }
   ],
   "source": [
    "# get the last year of the dataset\n",
    "last_year = data['date'].max().year\n",
    "last_year"
   ]
  },
  {
   "cell_type": "code",
   "execution_count": 398,
   "metadata": {},
   "outputs": [],
   "source": [
    "# remove rows that are not within the range of the first and last year of the covid dataset\n",
    "pop_density = pop_density[pop_density['Year'] >= first_year]\n",
    "pop_density = pop_density[pop_density['Year'] <= last_year]"
   ]
  },
  {
   "cell_type": "code",
   "execution_count": 399,
   "metadata": {},
   "outputs": [
    {
     "data": {
      "text/plain": [
       "(1220, 4)"
      ]
     },
     "execution_count": 399,
     "metadata": {},
     "output_type": "execute_result"
    }
   ],
   "source": [
    "pop_density.shape"
   ]
  },
  {
   "cell_type": "code",
   "execution_count": 400,
   "metadata": {},
   "outputs": [
    {
     "data": {
      "text/html": [
       "<div>\n",
       "<style scoped>\n",
       "    .dataframe tbody tr th:only-of-type {\n",
       "        vertical-align: middle;\n",
       "    }\n",
       "\n",
       "    .dataframe tbody tr th {\n",
       "        vertical-align: top;\n",
       "    }\n",
       "\n",
       "    .dataframe thead th {\n",
       "        text-align: right;\n",
       "    }\n",
       "</style>\n",
       "<table border=\"1\" class=\"dataframe\">\n",
       "  <thead>\n",
       "    <tr style=\"text-align: right;\">\n",
       "      <th></th>\n",
       "      <th>Entity</th>\n",
       "      <th>Code</th>\n",
       "      <th>Year</th>\n",
       "      <th>Population density</th>\n",
       "    </tr>\n",
       "  </thead>\n",
       "  <tbody>\n",
       "    <tr>\n",
       "      <th>38570</th>\n",
       "      <td>Liechtenstein</td>\n",
       "      <td>LIE</td>\n",
       "      <td>2020</td>\n",
       "      <td>242.393750</td>\n",
       "    </tr>\n",
       "    <tr>\n",
       "      <th>36544</th>\n",
       "      <td>Laos</td>\n",
       "      <td>LAO</td>\n",
       "      <td>2022</td>\n",
       "      <td>32.623383</td>\n",
       "    </tr>\n",
       "    <tr>\n",
       "      <th>41741</th>\n",
       "      <td>Mali</td>\n",
       "      <td>MLI</td>\n",
       "      <td>2023</td>\n",
       "      <td>19.090230</td>\n",
       "    </tr>\n",
       "    <tr>\n",
       "      <th>51027</th>\n",
       "      <td>Norway</td>\n",
       "      <td>NOR</td>\n",
       "      <td>2021</td>\n",
       "      <td>14.831851</td>\n",
       "    </tr>\n",
       "    <tr>\n",
       "      <th>52981</th>\n",
       "      <td>Panama</td>\n",
       "      <td>PAN</td>\n",
       "      <td>2021</td>\n",
       "      <td>58.658184</td>\n",
       "    </tr>\n",
       "  </tbody>\n",
       "</table>\n",
       "</div>"
      ],
      "text/plain": [
       "              Entity Code  Year  Population density\n",
       "38570  Liechtenstein  LIE  2020          242.393750\n",
       "36544           Laos  LAO  2022           32.623383\n",
       "41741           Mali  MLI  2023           19.090230\n",
       "51027         Norway  NOR  2021           14.831851\n",
       "52981         Panama  PAN  2021           58.658184"
      ]
     },
     "execution_count": 400,
     "metadata": {},
     "output_type": "execute_result"
    }
   ],
   "source": [
    "pop_density.sample(5)"
   ]
  },
  {
   "cell_type": "code",
   "execution_count": 401,
   "metadata": {},
   "outputs": [
    {
     "data": {
      "text/plain": [
       "Entity                0.000000\n",
       "Code                  4.508197\n",
       "Year                  0.000000\n",
       "Population density    0.000000\n",
       "dtype: float64"
      ]
     },
     "execution_count": 401,
     "metadata": {},
     "output_type": "execute_result"
    }
   ],
   "source": [
    "(pop_density.isnull().sum()/pop_density.shape[0])*100"
   ]
  },
  {
   "cell_type": "code",
   "execution_count": 402,
   "metadata": {},
   "outputs": [
    {
     "data": {
      "text/html": [
       "<div>\n",
       "<style scoped>\n",
       "    .dataframe tbody tr th:only-of-type {\n",
       "        vertical-align: middle;\n",
       "    }\n",
       "\n",
       "    .dataframe tbody tr th {\n",
       "        vertical-align: top;\n",
       "    }\n",
       "\n",
       "    .dataframe thead th {\n",
       "        text-align: right;\n",
       "    }\n",
       "</style>\n",
       "<table border=\"1\" class=\"dataframe\">\n",
       "  <thead>\n",
       "    <tr style=\"text-align: right;\">\n",
       "      <th></th>\n",
       "      <th>Entity</th>\n",
       "      <th>Code</th>\n",
       "      <th>Year</th>\n",
       "      <th>Population density</th>\n",
       "    </tr>\n",
       "  </thead>\n",
       "  <tbody>\n",
       "    <tr>\n",
       "      <th>595</th>\n",
       "      <td>Africa</td>\n",
       "      <td>NaN</td>\n",
       "      <td>2020</td>\n",
       "      <td>45.474545</td>\n",
       "    </tr>\n",
       "    <tr>\n",
       "      <th>596</th>\n",
       "      <td>Africa</td>\n",
       "      <td>NaN</td>\n",
       "      <td>2021</td>\n",
       "      <td>46.577396</td>\n",
       "    </tr>\n",
       "    <tr>\n",
       "      <th>597</th>\n",
       "      <td>Africa</td>\n",
       "      <td>NaN</td>\n",
       "      <td>2022</td>\n",
       "      <td>47.682274</td>\n",
       "    </tr>\n",
       "    <tr>\n",
       "      <th>598</th>\n",
       "      <td>Africa</td>\n",
       "      <td>NaN</td>\n",
       "      <td>2023</td>\n",
       "      <td>48.810062</td>\n",
       "    </tr>\n",
       "    <tr>\n",
       "      <th>599</th>\n",
       "      <td>Africa</td>\n",
       "      <td>NaN</td>\n",
       "      <td>2024</td>\n",
       "      <td>49.963478</td>\n",
       "    </tr>\n",
       "    <tr>\n",
       "      <th>3884</th>\n",
       "      <td>Asia</td>\n",
       "      <td>NaN</td>\n",
       "      <td>2020</td>\n",
       "      <td>149.983980</td>\n",
       "    </tr>\n",
       "    <tr>\n",
       "      <th>3885</th>\n",
       "      <td>Asia</td>\n",
       "      <td>NaN</td>\n",
       "      <td>2021</td>\n",
       "      <td>150.956790</td>\n",
       "    </tr>\n",
       "    <tr>\n",
       "      <th>3886</th>\n",
       "      <td>Asia</td>\n",
       "      <td>NaN</td>\n",
       "      <td>2022</td>\n",
       "      <td>151.859040</td>\n",
       "    </tr>\n",
       "    <tr>\n",
       "      <th>3887</th>\n",
       "      <td>Asia</td>\n",
       "      <td>NaN</td>\n",
       "      <td>2023</td>\n",
       "      <td>152.838000</td>\n",
       "    </tr>\n",
       "    <tr>\n",
       "      <th>3888</th>\n",
       "      <td>Asia</td>\n",
       "      <td>NaN</td>\n",
       "      <td>2024</td>\n",
       "      <td>153.866350</td>\n",
       "    </tr>\n",
       "    <tr>\n",
       "      <th>22491</th>\n",
       "      <td>Europe</td>\n",
       "      <td>NaN</td>\n",
       "      <td>2020</td>\n",
       "      <td>33.756905</td>\n",
       "    </tr>\n",
       "    <tr>\n",
       "      <th>22492</th>\n",
       "      <td>Europe</td>\n",
       "      <td>NaN</td>\n",
       "      <td>2021</td>\n",
       "      <td>33.709713</td>\n",
       "    </tr>\n",
       "    <tr>\n",
       "      <th>22493</th>\n",
       "      <td>Europe</td>\n",
       "      <td>NaN</td>\n",
       "      <td>2022</td>\n",
       "      <td>33.636970</td>\n",
       "    </tr>\n",
       "    <tr>\n",
       "      <th>22494</th>\n",
       "      <td>Europe</td>\n",
       "      <td>NaN</td>\n",
       "      <td>2023</td>\n",
       "      <td>33.579414</td>\n",
       "    </tr>\n",
       "    <tr>\n",
       "      <th>22495</th>\n",
       "      <td>Europe</td>\n",
       "      <td>NaN</td>\n",
       "      <td>2024</td>\n",
       "      <td>33.551754</td>\n",
       "    </tr>\n",
       "    <tr>\n",
       "      <th>22829</th>\n",
       "      <td>European Union (27)</td>\n",
       "      <td>NaN</td>\n",
       "      <td>2020</td>\n",
       "      <td>111.421530</td>\n",
       "    </tr>\n",
       "    <tr>\n",
       "      <th>22830</th>\n",
       "      <td>European Union (27)</td>\n",
       "      <td>NaN</td>\n",
       "      <td>2021</td>\n",
       "      <td>111.361660</td>\n",
       "    </tr>\n",
       "    <tr>\n",
       "      <th>22831</th>\n",
       "      <td>European Union (27)</td>\n",
       "      <td>NaN</td>\n",
       "      <td>2022</td>\n",
       "      <td>111.928330</td>\n",
       "    </tr>\n",
       "    <tr>\n",
       "      <th>22832</th>\n",
       "      <td>European Union (27)</td>\n",
       "      <td>NaN</td>\n",
       "      <td>2023</td>\n",
       "      <td>112.330280</td>\n",
       "    </tr>\n",
       "    <tr>\n",
       "      <th>22833</th>\n",
       "      <td>European Union (27)</td>\n",
       "      <td>NaN</td>\n",
       "      <td>2024</td>\n",
       "      <td>111.975320</td>\n",
       "    </tr>\n",
       "    <tr>\n",
       "      <th>29673</th>\n",
       "      <td>High-income countries</td>\n",
       "      <td>NaN</td>\n",
       "      <td>2020</td>\n",
       "      <td>34.847218</td>\n",
       "    </tr>\n",
       "    <tr>\n",
       "      <th>29674</th>\n",
       "      <td>High-income countries</td>\n",
       "      <td>NaN</td>\n",
       "      <td>2021</td>\n",
       "      <td>34.889880</td>\n",
       "    </tr>\n",
       "    <tr>\n",
       "      <th>29675</th>\n",
       "      <td>High-income countries</td>\n",
       "      <td>NaN</td>\n",
       "      <td>2022</td>\n",
       "      <td>35.019688</td>\n",
       "    </tr>\n",
       "    <tr>\n",
       "      <th>29676</th>\n",
       "      <td>High-income countries</td>\n",
       "      <td>NaN</td>\n",
       "      <td>2023</td>\n",
       "      <td>35.147675</td>\n",
       "    </tr>\n",
       "    <tr>\n",
       "      <th>29677</th>\n",
       "      <td>High-income countries</td>\n",
       "      <td>NaN</td>\n",
       "      <td>2024</td>\n",
       "      <td>35.205074</td>\n",
       "    </tr>\n",
       "    <tr>\n",
       "      <th>39246</th>\n",
       "      <td>Low-income countries</td>\n",
       "      <td>NaN</td>\n",
       "      <td>2020</td>\n",
       "      <td>45.377754</td>\n",
       "    </tr>\n",
       "    <tr>\n",
       "      <th>39247</th>\n",
       "      <td>Low-income countries</td>\n",
       "      <td>NaN</td>\n",
       "      <td>2021</td>\n",
       "      <td>46.613370</td>\n",
       "    </tr>\n",
       "    <tr>\n",
       "      <th>39248</th>\n",
       "      <td>Low-income countries</td>\n",
       "      <td>NaN</td>\n",
       "      <td>2022</td>\n",
       "      <td>47.867810</td>\n",
       "    </tr>\n",
       "    <tr>\n",
       "      <th>39249</th>\n",
       "      <td>Low-income countries</td>\n",
       "      <td>NaN</td>\n",
       "      <td>2023</td>\n",
       "      <td>49.174416</td>\n",
       "    </tr>\n",
       "    <tr>\n",
       "      <th>39250</th>\n",
       "      <td>Low-income countries</td>\n",
       "      <td>NaN</td>\n",
       "      <td>2024</td>\n",
       "      <td>50.511124</td>\n",
       "    </tr>\n",
       "    <tr>\n",
       "      <th>39584</th>\n",
       "      <td>Lower-middle-income countries</td>\n",
       "      <td>NaN</td>\n",
       "      <td>2020</td>\n",
       "      <td>131.644560</td>\n",
       "    </tr>\n",
       "    <tr>\n",
       "      <th>39585</th>\n",
       "      <td>Lower-middle-income countries</td>\n",
       "      <td>NaN</td>\n",
       "      <td>2021</td>\n",
       "      <td>133.259200</td>\n",
       "    </tr>\n",
       "    <tr>\n",
       "      <th>39586</th>\n",
       "      <td>Lower-middle-income countries</td>\n",
       "      <td>NaN</td>\n",
       "      <td>2022</td>\n",
       "      <td>134.665360</td>\n",
       "    </tr>\n",
       "    <tr>\n",
       "      <th>39587</th>\n",
       "      <td>Lower-middle-income countries</td>\n",
       "      <td>NaN</td>\n",
       "      <td>2023</td>\n",
       "      <td>136.203900</td>\n",
       "    </tr>\n",
       "    <tr>\n",
       "      <th>39588</th>\n",
       "      <td>Lower-middle-income countries</td>\n",
       "      <td>NaN</td>\n",
       "      <td>2024</td>\n",
       "      <td>137.987670</td>\n",
       "    </tr>\n",
       "    <tr>\n",
       "      <th>49859</th>\n",
       "      <td>North America</td>\n",
       "      <td>NaN</td>\n",
       "      <td>2020</td>\n",
       "      <td>28.032375</td>\n",
       "    </tr>\n",
       "    <tr>\n",
       "      <th>49860</th>\n",
       "      <td>North America</td>\n",
       "      <td>NaN</td>\n",
       "      <td>2021</td>\n",
       "      <td>28.167295</td>\n",
       "    </tr>\n",
       "    <tr>\n",
       "      <th>49861</th>\n",
       "      <td>North America</td>\n",
       "      <td>NaN</td>\n",
       "      <td>2022</td>\n",
       "      <td>28.318256</td>\n",
       "    </tr>\n",
       "    <tr>\n",
       "      <th>49862</th>\n",
       "      <td>North America</td>\n",
       "      <td>NaN</td>\n",
       "      <td>2023</td>\n",
       "      <td>28.500305</td>\n",
       "    </tr>\n",
       "    <tr>\n",
       "      <th>49863</th>\n",
       "      <td>North America</td>\n",
       "      <td>NaN</td>\n",
       "      <td>2024</td>\n",
       "      <td>28.687935</td>\n",
       "    </tr>\n",
       "    <tr>\n",
       "      <th>51364</th>\n",
       "      <td>Oceania</td>\n",
       "      <td>NaN</td>\n",
       "      <td>2020</td>\n",
       "      <td>5.171094</td>\n",
       "    </tr>\n",
       "    <tr>\n",
       "      <th>51365</th>\n",
       "      <td>Oceania</td>\n",
       "      <td>NaN</td>\n",
       "      <td>2021</td>\n",
       "      <td>5.236808</td>\n",
       "    </tr>\n",
       "    <tr>\n",
       "      <th>51366</th>\n",
       "      <td>Oceania</td>\n",
       "      <td>NaN</td>\n",
       "      <td>2022</td>\n",
       "      <td>5.301166</td>\n",
       "    </tr>\n",
       "    <tr>\n",
       "      <th>51367</th>\n",
       "      <td>Oceania</td>\n",
       "      <td>NaN</td>\n",
       "      <td>2023</td>\n",
       "      <td>5.364400</td>\n",
       "    </tr>\n",
       "    <tr>\n",
       "      <th>51368</th>\n",
       "      <td>Oceania</td>\n",
       "      <td>NaN</td>\n",
       "      <td>2024</td>\n",
       "      <td>5.427188</td>\n",
       "    </tr>\n",
       "    <tr>\n",
       "      <th>63431</th>\n",
       "      <td>South America</td>\n",
       "      <td>NaN</td>\n",
       "      <td>2020</td>\n",
       "      <td>24.712917</td>\n",
       "    </tr>\n",
       "    <tr>\n",
       "      <th>63432</th>\n",
       "      <td>South America</td>\n",
       "      <td>NaN</td>\n",
       "      <td>2021</td>\n",
       "      <td>24.868920</td>\n",
       "    </tr>\n",
       "    <tr>\n",
       "      <th>63433</th>\n",
       "      <td>South America</td>\n",
       "      <td>NaN</td>\n",
       "      <td>2022</td>\n",
       "      <td>25.015670</td>\n",
       "    </tr>\n",
       "    <tr>\n",
       "      <th>63434</th>\n",
       "      <td>South America</td>\n",
       "      <td>NaN</td>\n",
       "      <td>2023</td>\n",
       "      <td>25.181885</td>\n",
       "    </tr>\n",
       "    <tr>\n",
       "      <th>63435</th>\n",
       "      <td>South America</td>\n",
       "      <td>NaN</td>\n",
       "      <td>2024</td>\n",
       "      <td>25.361810</td>\n",
       "    </tr>\n",
       "    <tr>\n",
       "      <th>72884</th>\n",
       "      <td>Upper-middle-income countries</td>\n",
       "      <td>NaN</td>\n",
       "      <td>2020</td>\n",
       "      <td>47.476406</td>\n",
       "    </tr>\n",
       "    <tr>\n",
       "      <th>72885</th>\n",
       "      <td>Upper-middle-income countries</td>\n",
       "      <td>NaN</td>\n",
       "      <td>2021</td>\n",
       "      <td>47.611923</td>\n",
       "    </tr>\n",
       "    <tr>\n",
       "      <th>72886</th>\n",
       "      <td>Upper-middle-income countries</td>\n",
       "      <td>NaN</td>\n",
       "      <td>2022</td>\n",
       "      <td>47.730316</td>\n",
       "    </tr>\n",
       "    <tr>\n",
       "      <th>72887</th>\n",
       "      <td>Upper-middle-income countries</td>\n",
       "      <td>NaN</td>\n",
       "      <td>2023</td>\n",
       "      <td>47.845947</td>\n",
       "    </tr>\n",
       "    <tr>\n",
       "      <th>72888</th>\n",
       "      <td>Upper-middle-income countries</td>\n",
       "      <td>NaN</td>\n",
       "      <td>2024</td>\n",
       "      <td>47.943600</td>\n",
       "    </tr>\n",
       "  </tbody>\n",
       "</table>\n",
       "</div>"
      ],
      "text/plain": [
       "                              Entity Code  Year  Population density\n",
       "595                           Africa  NaN  2020           45.474545\n",
       "596                           Africa  NaN  2021           46.577396\n",
       "597                           Africa  NaN  2022           47.682274\n",
       "598                           Africa  NaN  2023           48.810062\n",
       "599                           Africa  NaN  2024           49.963478\n",
       "3884                            Asia  NaN  2020          149.983980\n",
       "3885                            Asia  NaN  2021          150.956790\n",
       "3886                            Asia  NaN  2022          151.859040\n",
       "3887                            Asia  NaN  2023          152.838000\n",
       "3888                            Asia  NaN  2024          153.866350\n",
       "22491                         Europe  NaN  2020           33.756905\n",
       "22492                         Europe  NaN  2021           33.709713\n",
       "22493                         Europe  NaN  2022           33.636970\n",
       "22494                         Europe  NaN  2023           33.579414\n",
       "22495                         Europe  NaN  2024           33.551754\n",
       "22829            European Union (27)  NaN  2020          111.421530\n",
       "22830            European Union (27)  NaN  2021          111.361660\n",
       "22831            European Union (27)  NaN  2022          111.928330\n",
       "22832            European Union (27)  NaN  2023          112.330280\n",
       "22833            European Union (27)  NaN  2024          111.975320\n",
       "29673          High-income countries  NaN  2020           34.847218\n",
       "29674          High-income countries  NaN  2021           34.889880\n",
       "29675          High-income countries  NaN  2022           35.019688\n",
       "29676          High-income countries  NaN  2023           35.147675\n",
       "29677          High-income countries  NaN  2024           35.205074\n",
       "39246           Low-income countries  NaN  2020           45.377754\n",
       "39247           Low-income countries  NaN  2021           46.613370\n",
       "39248           Low-income countries  NaN  2022           47.867810\n",
       "39249           Low-income countries  NaN  2023           49.174416\n",
       "39250           Low-income countries  NaN  2024           50.511124\n",
       "39584  Lower-middle-income countries  NaN  2020          131.644560\n",
       "39585  Lower-middle-income countries  NaN  2021          133.259200\n",
       "39586  Lower-middle-income countries  NaN  2022          134.665360\n",
       "39587  Lower-middle-income countries  NaN  2023          136.203900\n",
       "39588  Lower-middle-income countries  NaN  2024          137.987670\n",
       "49859                  North America  NaN  2020           28.032375\n",
       "49860                  North America  NaN  2021           28.167295\n",
       "49861                  North America  NaN  2022           28.318256\n",
       "49862                  North America  NaN  2023           28.500305\n",
       "49863                  North America  NaN  2024           28.687935\n",
       "51364                        Oceania  NaN  2020            5.171094\n",
       "51365                        Oceania  NaN  2021            5.236808\n",
       "51366                        Oceania  NaN  2022            5.301166\n",
       "51367                        Oceania  NaN  2023            5.364400\n",
       "51368                        Oceania  NaN  2024            5.427188\n",
       "63431                  South America  NaN  2020           24.712917\n",
       "63432                  South America  NaN  2021           24.868920\n",
       "63433                  South America  NaN  2022           25.015670\n",
       "63434                  South America  NaN  2023           25.181885\n",
       "63435                  South America  NaN  2024           25.361810\n",
       "72884  Upper-middle-income countries  NaN  2020           47.476406\n",
       "72885  Upper-middle-income countries  NaN  2021           47.611923\n",
       "72886  Upper-middle-income countries  NaN  2022           47.730316\n",
       "72887  Upper-middle-income countries  NaN  2023           47.845947\n",
       "72888  Upper-middle-income countries  NaN  2024           47.943600"
      ]
     },
     "execution_count": 402,
     "metadata": {},
     "output_type": "execute_result"
    }
   ],
   "source": [
    "pop_density[pop_density['Code'].isnull()]"
   ]
  },
  {
   "cell_type": "code",
   "execution_count": 403,
   "metadata": {},
   "outputs": [],
   "source": [
    "# remove rows with missing values in the Code column, as they are not useful because they are not associated with any country, but rather a region, continent or group of people\n",
    "pop_density = pop_density.dropna(subset=['Code'])"
   ]
  },
  {
   "cell_type": "code",
   "execution_count": 404,
   "metadata": {},
   "outputs": [
    {
     "data": {
      "text/plain": [
       "Entity                0.0\n",
       "Code                  0.0\n",
       "Year                  0.0\n",
       "Population density    0.0\n",
       "dtype: float64"
      ]
     },
     "execution_count": 404,
     "metadata": {},
     "output_type": "execute_result"
    }
   ],
   "source": [
    "(pop_density.isnull().sum()/pop_density.shape[0])*100"
   ]
  },
  {
   "cell_type": "code",
   "execution_count": 405,
   "metadata": {},
   "outputs": [
    {
     "data": {
      "text/plain": [
       "233"
      ]
     },
     "execution_count": 405,
     "metadata": {},
     "output_type": "execute_result"
    }
   ],
   "source": [
    "len(pop_density['Entity'].unique())"
   ]
  },
  {
   "cell_type": "code",
   "execution_count": 406,
   "metadata": {},
   "outputs": [],
   "source": [
    "pop_density.rename(columns={'Entity':'location', 'Code':'iso_code','Year':'year', 'Population density': 'population_density'}, inplace=True)"
   ]
  },
  {
   "cell_type": "code",
   "execution_count": 407,
   "metadata": {},
   "outputs": [
    {
     "data": {
      "text/html": [
       "<div>\n",
       "<style scoped>\n",
       "    .dataframe tbody tr th:only-of-type {\n",
       "        vertical-align: middle;\n",
       "    }\n",
       "\n",
       "    .dataframe tbody tr th {\n",
       "        vertical-align: top;\n",
       "    }\n",
       "\n",
       "    .dataframe thead th {\n",
       "        text-align: right;\n",
       "    }\n",
       "</style>\n",
       "<table border=\"1\" class=\"dataframe\">\n",
       "  <thead>\n",
       "    <tr style=\"text-align: right;\">\n",
       "      <th></th>\n",
       "      <th>location</th>\n",
       "      <th>iso_code</th>\n",
       "      <th>year</th>\n",
       "      <th>population_density</th>\n",
       "    </tr>\n",
       "  </thead>\n",
       "  <tbody>\n",
       "    <tr>\n",
       "      <th>38912</th>\n",
       "      <td>Lithuania</td>\n",
       "      <td>LTU</td>\n",
       "      <td>2024</td>\n",
       "      <td>43.002266</td>\n",
       "    </tr>\n",
       "    <tr>\n",
       "      <th>66778</th>\n",
       "      <td>Taiwan</td>\n",
       "      <td>TWN</td>\n",
       "      <td>2022</td>\n",
       "      <td>674.764100</td>\n",
       "    </tr>\n",
       "    <tr>\n",
       "      <th>45019</th>\n",
       "      <td>Mongolia</td>\n",
       "      <td>MNG</td>\n",
       "      <td>2023</td>\n",
       "      <td>2.213253</td>\n",
       "    </tr>\n",
       "    <tr>\n",
       "      <th>57909</th>\n",
       "      <td>Saint Pierre and Miquelon</td>\n",
       "      <td>SPM</td>\n",
       "      <td>2022</td>\n",
       "      <td>25.586956</td>\n",
       "    </tr>\n",
       "    <tr>\n",
       "      <th>2141</th>\n",
       "      <td>Angola</td>\n",
       "      <td>AGO</td>\n",
       "      <td>2021</td>\n",
       "      <td>27.676086</td>\n",
       "    </tr>\n",
       "  </tbody>\n",
       "</table>\n",
       "</div>"
      ],
      "text/plain": [
       "                        location iso_code  year  population_density\n",
       "38912                  Lithuania      LTU  2024           43.002266\n",
       "66778                     Taiwan      TWN  2022          674.764100\n",
       "45019                   Mongolia      MNG  2023            2.213253\n",
       "57909  Saint Pierre and Miquelon      SPM  2022           25.586956\n",
       "2141                      Angola      AGO  2021           27.676086"
      ]
     },
     "execution_count": 407,
     "metadata": {},
     "output_type": "execute_result"
    }
   ],
   "source": [
    "pop_density.sample(5)"
   ]
  },
  {
   "cell_type": "code",
   "execution_count": 408,
   "metadata": {},
   "outputs": [
    {
     "name": "stdout",
     "output_type": "stream",
     "text": [
      "5 22\n",
      "['GGY', 'JEY', 'PCN', 'BLM', 'VAT']\n"
     ]
    }
   ],
   "source": [
    "# find out if the countries in the covid dataset, with missing population_density, are in the population density dataset\n",
    "doesnt_exists = []\n",
    "for code in missing_population_density:\n",
    "    if not code in pop_density['iso_code'].unique():\n",
    "        doesnt_exists.append(code)\n",
    "\n",
    "print(len(doesnt_exists), len(missing_population_density))\n",
    "print(doesnt_exists)"
   ]
  },
  {
   "cell_type": "code",
   "execution_count": 409,
   "metadata": {},
   "outputs": [],
   "source": [
    "# remove the countries that are not in the population density dataset\n",
    "data = data[~data['iso_code'].isin(doesnt_exists)]"
   ]
  },
  {
   "cell_type": "code",
   "execution_count": 411,
   "metadata": {},
   "outputs": [],
   "source": [
    "rows_with_missing_pop_density = data[data['population_density'].isnull()]\n",
    "df_with_pop_filled = pd.DataFrame(columns=data.columns)\n",
    "for row in rows_with_missing_pop_density.iterrows():\n",
    "    index = row[0]\n",
    "    row = row[1]\n",
    "    year = row['date'].year\n",
    "    location = row['location']\n",
    "    iso_code = row['iso_code']\n",
    "    year_condition = pop_density['year'] == year\n",
    "    iso_code_condition = pop_density['iso_code'] == iso_code\n",
    "    combined_condition = year_condition & iso_code_condition\n",
    "    pop_density_row = pop_density[combined_condition]\n",
    "    #print(f\"putting data into index: {index}\")\n",
    "    df_with_pop_filled.loc[index] = [iso_code, location, row['total_cases'], row['gdp_per_capita'], pop_density_row['population_density'].values[0], row['population'], row['date']]\n"
   ]
  },
  {
   "cell_type": "code",
   "execution_count": 412,
   "metadata": {},
   "outputs": [],
   "source": [
    "data['population_density'] = data['population_density'].fillna(df_with_pop_filled['population_density'])"
   ]
  },
  {
   "cell_type": "code",
   "execution_count": 413,
   "metadata": {},
   "outputs": [
    {
     "data": {
      "text/plain": [
       "(315870, 7)"
      ]
     },
     "execution_count": 413,
     "metadata": {},
     "output_type": "execute_result"
    }
   ],
   "source": [
    "before_dropping_missing = data.shape[0]\n",
    "data.shape"
   ]
  },
  {
   "cell_type": "code",
   "execution_count": 414,
   "metadata": {},
   "outputs": [],
   "source": [
    "data = data.dropna(subset=['gdp_per_capita'])"
   ]
  },
  {
   "cell_type": "code",
   "execution_count": 415,
   "metadata": {},
   "outputs": [
    {
     "data": {
      "text/plain": [
       "(269796, 7)"
      ]
     },
     "execution_count": 415,
     "metadata": {},
     "output_type": "execute_result"
    }
   ],
   "source": [
    "after_dropping_missing = data.shape[0]\n",
    "data.shape"
   ]
  },
  {
   "cell_type": "code",
   "execution_count": 416,
   "metadata": {},
   "outputs": [
    {
     "name": "stdout",
     "output_type": "stream",
     "text": [
      "dropped 46074 rows\n"
     ]
    }
   ],
   "source": [
    "dropped_values = before_dropping_missing - after_dropping_missing\n",
    "print(f\"dropped {dropped_values} rows\")"
   ]
  },
  {
   "cell_type": "code",
   "execution_count": 417,
   "metadata": {},
   "outputs": [
    {
     "data": {
      "text/plain": [
       "iso_code              0.0\n",
       "location              0.0\n",
       "total_cases           0.0\n",
       "gdp_per_capita        0.0\n",
       "population_density    0.0\n",
       "population            0.0\n",
       "date                  0.0\n",
       "dtype: float64"
      ]
     },
     "execution_count": 417,
     "metadata": {},
     "output_type": "execute_result"
    }
   ],
   "source": [
    "missing_values = (data.isnull().sum()/data.shape[0])*100\n",
    "missing_values"
   ]
  },
  {
   "cell_type": "markdown",
   "metadata": {},
   "source": [
    "# Hypotese 1\n",
    "\n",
    "### Vi tror at der er en sammenhængen mellem antal smittede i forholds til et lands Bruttonationalprodukt (BNP) per indbygger."
   ]
  },
  {
   "cell_type": "code",
   "execution_count": 420,
   "metadata": {},
   "outputs": [],
   "source": [
    "# Copy the data to use for hypothesis 1\n",
    "data_hypothesis_1 = data[['location', 'total_cases', 'gdp_per_capita', 'date']]"
   ]
  },
  {
   "cell_type": "code",
   "execution_count": 421,
   "metadata": {},
   "outputs": [
    {
     "data": {
      "text/html": [
       "<div>\n",
       "<style scoped>\n",
       "    .dataframe tbody tr th:only-of-type {\n",
       "        vertical-align: middle;\n",
       "    }\n",
       "\n",
       "    .dataframe tbody tr th {\n",
       "        vertical-align: top;\n",
       "    }\n",
       "\n",
       "    .dataframe thead th {\n",
       "        text-align: right;\n",
       "    }\n",
       "</style>\n",
       "<table border=\"1\" class=\"dataframe\">\n",
       "  <thead>\n",
       "    <tr style=\"text-align: right;\">\n",
       "      <th></th>\n",
       "      <th>location</th>\n",
       "      <th>total_cases</th>\n",
       "      <th>gdp_per_capita</th>\n",
       "      <th>date</th>\n",
       "    </tr>\n",
       "  </thead>\n",
       "  <tbody>\n",
       "    <tr>\n",
       "      <th>0</th>\n",
       "      <td>Afghanistan</td>\n",
       "      <td>231990.0</td>\n",
       "      <td>1803.987</td>\n",
       "      <td>2024-02-18</td>\n",
       "    </tr>\n",
       "    <tr>\n",
       "      <th>1</th>\n",
       "      <td>Albania</td>\n",
       "      <td>334863.0</td>\n",
       "      <td>11803.431</td>\n",
       "      <td>2024-02-18</td>\n",
       "    </tr>\n",
       "    <tr>\n",
       "      <th>2</th>\n",
       "      <td>Algeria</td>\n",
       "      <td>272010.0</td>\n",
       "      <td>13913.839</td>\n",
       "      <td>2024-02-18</td>\n",
       "    </tr>\n",
       "    <tr>\n",
       "      <th>3</th>\n",
       "      <td>Angola</td>\n",
       "      <td>107325.0</td>\n",
       "      <td>5819.495</td>\n",
       "      <td>2024-02-18</td>\n",
       "    </tr>\n",
       "    <tr>\n",
       "      <th>4</th>\n",
       "      <td>Antigua and Barbuda</td>\n",
       "      <td>9106.0</td>\n",
       "      <td>21490.943</td>\n",
       "      <td>2024-02-18</td>\n",
       "    </tr>\n",
       "    <tr>\n",
       "      <th>...</th>\n",
       "      <td>...</td>\n",
       "      <td>...</td>\n",
       "      <td>...</td>\n",
       "      <td>...</td>\n",
       "    </tr>\n",
       "    <tr>\n",
       "      <th>186</th>\n",
       "      <td>Venezuela</td>\n",
       "      <td>552695.0</td>\n",
       "      <td>16745.022</td>\n",
       "      <td>2024-02-18</td>\n",
       "    </tr>\n",
       "    <tr>\n",
       "      <th>187</th>\n",
       "      <td>Vietnam</td>\n",
       "      <td>11624000.0</td>\n",
       "      <td>6171.884</td>\n",
       "      <td>2024-02-18</td>\n",
       "    </tr>\n",
       "    <tr>\n",
       "      <th>188</th>\n",
       "      <td>Yemen</td>\n",
       "      <td>11945.0</td>\n",
       "      <td>1479.147</td>\n",
       "      <td>2024-02-18</td>\n",
       "    </tr>\n",
       "    <tr>\n",
       "      <th>189</th>\n",
       "      <td>Zambia</td>\n",
       "      <td>349304.0</td>\n",
       "      <td>3689.251</td>\n",
       "      <td>2024-02-18</td>\n",
       "    </tr>\n",
       "    <tr>\n",
       "      <th>190</th>\n",
       "      <td>Zimbabwe</td>\n",
       "      <td>266350.0</td>\n",
       "      <td>1899.775</td>\n",
       "      <td>2024-02-18</td>\n",
       "    </tr>\n",
       "  </tbody>\n",
       "</table>\n",
       "<p>191 rows × 4 columns</p>\n",
       "</div>"
      ],
      "text/plain": [
       "                location  total_cases  gdp_per_capita       date\n",
       "0            Afghanistan     231990.0        1803.987 2024-02-18\n",
       "1                Albania     334863.0       11803.431 2024-02-18\n",
       "2                Algeria     272010.0       13913.839 2024-02-18\n",
       "3                 Angola     107325.0        5819.495 2024-02-18\n",
       "4    Antigua and Barbuda       9106.0       21490.943 2024-02-18\n",
       "..                   ...          ...             ...        ...\n",
       "186            Venezuela     552695.0       16745.022 2024-02-18\n",
       "187              Vietnam   11624000.0        6171.884 2024-02-18\n",
       "188                Yemen      11945.0        1479.147 2024-02-18\n",
       "189               Zambia     349304.0        3689.251 2024-02-18\n",
       "190             Zimbabwe     266350.0        1899.775 2024-02-18\n",
       "\n",
       "[191 rows x 4 columns]"
      ]
     },
     "execution_count": 421,
     "metadata": {},
     "output_type": "execute_result"
    }
   ],
   "source": [
    "# get the last row for each country\n",
    "last_row = data_hypothesis_1.groupby('location').last().reset_index()\n",
    "last_row"
   ]
  },
  {
   "cell_type": "code",
   "execution_count": 422,
   "metadata": {},
   "outputs": [
    {
     "data": {
      "text/plain": [
       "True"
      ]
     },
     "execution_count": 422,
     "metadata": {},
     "output_type": "execute_result"
    }
   ],
   "source": [
    "last_row['date'].max() == last_row['date'].min()"
   ]
  },
  {
   "cell_type": "code",
   "execution_count": null,
   "metadata": {},
   "outputs": [],
   "source": [
    "def mouse_over_event(event):\n",
    "    # Iterating over each data member plotted\n",
    "    for curve in plot.get_lines():\n",
    "        # Searching which data member corresponds to current mouse position\n",
    "        if curve.contains(event)[0]:\n",
    "            print(curve.get_label())"
   ]
  },
  {
   "cell_type": "code",
   "execution_count": 423,
   "metadata": {},
   "outputs": [
    {
     "data": {
      "image/png": "[encoded data removed]",
      "text/plain": [
       "<Figure size 1000x600 with 1 Axes>"
      ]
     },
     "metadata": {},
     "output_type": "display_data"
    }
   ],
   "source": [
    "# scatterplot for total_cases and gdp_per_capita for each country\n",
    "plt.figure(figsize=(10, 6))\n",
    "sns.scatterplot(x='gdp_per_capita', y='total_cases', data=last_row)\n",
    "plt.title('Total cases vs GDP per capita')\n",
    "fig.canvas.mpl_connect('motion_notify_event', lambda event: print())\n",
    "plt.show()"
   ]
  }
 ],
 "metadata": {
  "kernelspec": {
   "display_name": "Python 3",
   "language": "python",
   "name": "python3"
  },
  "language_info": {
   "codemirror_mode": {
    "name": "ipython",
    "version": 3
   },
   "file_extension": ".py",
   "mimetype": "text/x-python",
   "name": "python",
   "nbconvert_exporter": "python",
   "pygments_lexer": "ipython3",
   "version": "3.11.5"
  }
 },
 "nbformat": 4,
 "nbformat_minor": 2
}
