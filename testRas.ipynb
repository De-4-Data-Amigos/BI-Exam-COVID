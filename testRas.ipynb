{
 "cells": [
  {
   "cell_type": "code",
   "execution_count": 486,
   "metadata": {},
   "outputs": [],
   "source": [
    "import csv\n",
    "\n",
    "import pandas as pd"
   ]
  },
  {
   "cell_type": "markdown",
   "metadata": {},
   "source": [
    "Making sure country names in the two datasets are identical."
   ]
  },
  {
   "cell_type": "code",
   "execution_count": 487,
   "metadata": {},
   "outputs": [],
   "source": [
    "hdi_dataset = pd.read_csv(\"./Data/human-development-index.csv\")\n",
    "data2 = pd.read_csv(\"./Data/owid-covid-data.csv\")"
   ]
  },
  {
   "cell_type": "code",
   "execution_count": 488,
   "metadata": {},
   "outputs": [],
   "source": [
    "first_year = 2020\n",
    "hdi_dataset = hdi_dataset[hdi_dataset['Year'] >= first_year]\n",
    "# pop_density = pop_density[pop_density['Year'] >= first_year]\n",
    "hdi_dataset.reset_index(drop=True, inplace=True)\n"
   ]
  },
  {
   "cell_type": "code",
   "execution_count": 489,
   "metadata": {},
   "outputs": [],
   "source": [
    "# Create a list of years to add\n",
    "additional_years = [2023, 2024]\n",
    "# Repeat the last row for each additional year\n",
    "for year in additional_years:\n",
    "    last_row = hdi_dataset[hdi_dataset['Year'] == hdi_dataset['Year'].max()].copy()\n",
    "    last_row['Year'] = year\n",
    "    hdi_dataset = pd.concat([hdi_dataset, last_row], ignore_index=True)"
   ]
  },
  {
   "cell_type": "code",
   "execution_count": 490,
   "metadata": {},
   "outputs": [],
   "source": [
    "#hdi_dataset.reset_index(drop=True, inplace=True)\n",
    "\n",
    "#hdi_dataset[hdi_dataset['Code'] == 'AFG'].head()"
   ]
  },
  {
   "cell_type": "code",
   "execution_count": 491,
   "metadata": {},
   "outputs": [],
   "source": [
    "hdi_dataset.rename(columns={'Code': 'iso_code', 'Entity':'location', 'Year':'year', 'Human Development Index':'human_development_index'}, inplace=True)\n",
    "# pop_density.rename(columns={'Entity':'location', 'Code':'iso_code','Year':'year'}, inplace=True)"
   ]
  },
  {
   "cell_type": "code",
   "execution_count": 492,
   "metadata": {},
   "outputs": [
    {
     "data": {
      "text/plain": [
       "24.721915575881827"
      ]
     },
     "execution_count": 492,
     "metadata": {},
     "output_type": "execute_result"
    }
   ],
   "source": [
    "data2['human_development_index'].isnull().sum()/data2.shape[0]*100"
   ]
  },
  {
   "cell_type": "code",
   "execution_count": 493,
   "metadata": {},
   "outputs": [
    {
     "name": "stdout",
     "output_type": "stream",
     "text": [
      "8.255993208964489\n",
      "7.291153635166032\n"
     ]
    }
   ],
   "source": [
    "# Merge datasets based on the 'Code' and 'iso_code' columns\n",
    "merged_dataset = pd.merge(data2, hdi_dataset, left_on='iso_code', right_on='iso_code', how='left')\n",
    "print(merged_dataset['human_development_index_x'].isnull().sum()/merged_dataset.shape[0]*100)\n",
    "print(merged_dataset['human_development_index_y'].isnull().sum()/merged_dataset.shape[0]*100)\n",
    "# Fill missing HDI values in dataset 2 with corresponding values from dataset 1\n",
    "merged_dataset['human_development_index_x'] = merged_dataset['human_development_index_x'].fillna(merged_dataset['human_development_index_y'])\n",
    "\n",
    "# Drop redundant columns\n",
    "data2 = merged_dataset.drop(columns=['human_development_index_y']).rename(columns={'human_development_index_x':'human_development_index'})\n",
    "\n"
   ]
  },
  {
   "cell_type": "code",
   "execution_count": 494,
   "metadata": {},
   "outputs": [
    {
     "data": {
      "text/plain": [
       "7.291153635166032"
      ]
     },
     "execution_count": 494,
     "metadata": {},
     "output_type": "execute_result"
    }
   ],
   "source": [
    "data2['human_development_index'].isnull().sum()/data2.shape[0]*100"
   ]
  }
 ],
 "metadata": {
  "kernelspec": {
   "display_name": "base",
   "language": "python",
   "name": "python3"
  },
  "language_info": {
   "codemirror_mode": {
    "name": "ipython",
    "version": 3
   },
   "file_extension": ".py",
   "mimetype": "text/x-python",
   "name": "python",
   "nbconvert_exporter": "python",
   "pygments_lexer": "ipython3",
   "version": "3.11.5"
  }
 },
 "nbformat": 4,
 "nbformat_minor": 2
}
