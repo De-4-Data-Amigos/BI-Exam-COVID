{
 "cells": [
  {
   "cell_type": "code",
   "execution_count": 84,
   "metadata": {},
   "outputs": [],
   "source": [
    "import csv\n",
    "\n",
    "import pandas as pd"
   ]
  },
  {
   "cell_type": "markdown",
   "metadata": {},
   "source": [
    "Making sure country names in the two datasets are identical."
   ]
  },
  {
   "cell_type": "code",
   "execution_count": 85,
   "metadata": {},
   "outputs": [],
   "source": [
    "data = pd.read_csv(\"./Data/hdi.csv\", delimiter=\";\")\n",
    "data2 = pd.read_csv(\"./Data/owid-covid-data.csv\")"
   ]
  },
  {
   "cell_type": "code",
   "execution_count": 86,
   "metadata": {},
   "outputs": [
    {
     "data": {
      "text/plain": [
       "(191, 2)"
      ]
     },
     "execution_count": 86,
     "metadata": {},
     "output_type": "execute_result"
    }
   ],
   "source": [
    "data.shape"
   ]
  },
  {
   "cell_type": "code",
   "execution_count": 87,
   "metadata": {},
   "outputs": [
    {
     "data": {
      "text/plain": [
       "array(['Afghanistan', 'Africa', 'Albania', 'Algeria', 'American Samoa',\n",
       "       'Andorra', 'Angola', 'Anguilla', 'Antigua and Barbuda',\n",
       "       'Argentina', 'Armenia', 'Aruba', 'Asia', 'Australia', 'Austria',\n",
       "       'Azerbaijan', 'Bahamas', 'Bahrain', 'Bangladesh', 'Barbados',\n",
       "       'Belarus', 'Belgium', 'Belize', 'Benin', 'Bermuda', 'Bhutan',\n",
       "       'Bolivia', 'Bonaire Sint Eustatius and Saba',\n",
       "       'Bosnia and Herzegovina', 'Botswana', 'Brazil',\n",
       "       'British Virgin Islands', 'Brunei', 'Bulgaria', 'Burkina Faso',\n",
       "       'Burundi', 'Cambodia', 'Cameroon', 'Canada', 'Cape Verde',\n",
       "       'Cayman Islands', 'Central African Republic', 'Chad', 'Chile',\n",
       "       'China', 'Colombia', 'Comoros', 'Congo', 'Cook Islands',\n",
       "       'Costa Rica', \"Cote d'Ivoire\", 'Croatia', 'Cuba', 'Curacao',\n",
       "       'Cyprus', 'Czechia', 'Democratic Republic of Congo', 'Denmark',\n",
       "       'Djibouti', 'Dominica', 'Dominican Republic', 'Ecuador', 'Egypt',\n",
       "       'El Salvador', 'England', 'Equatorial Guinea', 'Eritrea',\n",
       "       'Estonia', 'Eswatini', 'Ethiopia', 'Europe', 'European Union',\n",
       "       'Faeroe Islands', 'Falkland Islands', 'Fiji', 'Finland', 'France',\n",
       "       'French Guiana', 'French Polynesia', 'Gabon', 'Gambia', 'Georgia',\n",
       "       'Germany', 'Ghana', 'Gibraltar', 'Greece', 'Greenland', 'Grenada',\n",
       "       'Guadeloupe', 'Guam', 'Guatemala', 'Guernsey', 'Guinea',\n",
       "       'Guinea-Bissau', 'Guyana', 'Haiti', 'High income', 'Honduras',\n",
       "       'Hong Kong', 'Hungary', 'Iceland', 'India', 'Indonesia', 'Iran',\n",
       "       'Iraq', 'Ireland', 'Isle of Man', 'Israel', 'Italy', 'Jamaica',\n",
       "       'Japan', 'Jersey', 'Jordan', 'Kazakhstan', 'Kenya', 'Kiribati',\n",
       "       'Kosovo', 'Kuwait', 'Kyrgyzstan', 'Laos', 'Latvia', 'Lebanon',\n",
       "       'Lesotho', 'Liberia', 'Libya', 'Liechtenstein', 'Lithuania',\n",
       "       'Low income', 'Lower middle income', 'Luxembourg', 'Macao',\n",
       "       'Madagascar', 'Malawi', 'Malaysia', 'Maldives', 'Mali', 'Malta',\n",
       "       'Marshall Islands', 'Martinique', 'Mauritania', 'Mauritius',\n",
       "       'Mayotte', 'Mexico', 'Micronesia (country)', 'Moldova', 'Monaco',\n",
       "       'Mongolia', 'Montenegro', 'Montserrat', 'Morocco', 'Mozambique',\n",
       "       'Myanmar', 'Namibia', 'Nauru', 'Nepal', 'Netherlands',\n",
       "       'New Caledonia', 'New Zealand', 'Nicaragua', 'Niger', 'Nigeria',\n",
       "       'Niue', 'North America', 'North Korea', 'North Macedonia',\n",
       "       'Northern Cyprus', 'Northern Ireland', 'Northern Mariana Islands',\n",
       "       'Norway', 'Oceania', 'Oman', 'Pakistan', 'Palau', 'Palestine',\n",
       "       'Panama', 'Papua New Guinea', 'Paraguay', 'Peru', 'Philippines',\n",
       "       'Pitcairn', 'Poland', 'Portugal', 'Puerto Rico', 'Qatar',\n",
       "       'Reunion', 'Romania', 'Russia', 'Rwanda', 'Saint Barthelemy',\n",
       "       'Saint Helena', 'Saint Kitts and Nevis', 'Saint Lucia',\n",
       "       'Saint Martin (French part)', 'Saint Pierre and Miquelon',\n",
       "       'Saint Vincent and the Grenadines', 'Samoa', 'San Marino',\n",
       "       'Sao Tome and Principe', 'Saudi Arabia', 'Scotland', 'Senegal',\n",
       "       'Serbia', 'Seychelles', 'Sierra Leone', 'Singapore',\n",
       "       'Sint Maarten (Dutch part)', 'Slovakia', 'Slovenia',\n",
       "       'Solomon Islands', 'Somalia', 'South Africa', 'South America',\n",
       "       'South Korea', 'South Sudan', 'Spain', 'Sri Lanka', 'Sudan',\n",
       "       'Suriname', 'Sweden', 'Switzerland', 'Syria', 'Taiwan',\n",
       "       'Tajikistan', 'Tanzania', 'Thailand', 'Timor', 'Togo', 'Tokelau',\n",
       "       'Tonga', 'Trinidad and Tobago', 'Tunisia', 'Turkey',\n",
       "       'Turkmenistan', 'Turks and Caicos Islands', 'Tuvalu', 'Uganda',\n",
       "       'Ukraine', 'United Arab Emirates', 'United Kingdom',\n",
       "       'United States', 'United States Virgin Islands',\n",
       "       'Upper middle income', 'Uruguay', 'Uzbekistan', 'Vanuatu',\n",
       "       'Vatican', 'Venezuela', 'Vietnam', 'Wales', 'Wallis and Futuna',\n",
       "       'Western Sahara', 'World', 'Yemen', 'Zambia', 'Zimbabwe'],\n",
       "      dtype=object)"
      ]
     },
     "execution_count": 87,
     "metadata": {},
     "output_type": "execute_result"
    }
   ],
   "source": [
    "data['location']\n",
    "data2['location'].unique()"
   ]
  },
  {
   "cell_type": "code",
   "execution_count": 88,
   "metadata": {},
   "outputs": [],
   "source": [
    "list1 = data['location'].array\n",
    "list2 = data2['location'].unique()"
   ]
  },
  {
   "cell_type": "code",
   "execution_count": 89,
   "metadata": {},
   "outputs": [
    {
     "name": "stdout",
     "output_type": "stream",
     "text": [
      "['T�rkiye', 'Brunei Darussalam', 'Russian Federation', 'Palestine, State of', 'Viet Nam', 'Cabo Verde', \"Lao People's Democratic Republic\", 'Timor-Leste', 'Syrian Arab Republic', \"C�te d'Ivoire\", 'Tanzani', 'Africa', 'American Samoa', 'Anguilla', 'Aruba', 'Asia', 'Bermuda', 'Bonaire Sint Eustatius and Saba', 'British Virgin Islands', 'Brunei', 'Cape Verde', 'Cayman Islands', 'Cook Islands', \"Cote d'Ivoire\", 'Curacao', 'Democratic Republic of Congo', 'England', 'Europe', 'European Union', 'Faeroe Islands', 'Falkland Islands', 'French Guiana', 'French Polynesia', 'Gibraltar', 'Greenland', 'Guadeloupe', 'Guam', 'Guernsey', 'High income', 'Isle of Man', 'Jersey', 'Kosovo', 'Laos', 'Low income', 'Lower middle income', 'Macao', 'Martinique', 'Mayotte', 'Monaco', 'Montserrat', 'Nauru', 'New Caledonia', 'Niue', 'North America', 'North Korea', 'Northern Cyprus', 'Northern Ireland', 'Northern Mariana Islands', 'Oceania', 'Palestine', 'Pitcairn', 'Puerto Rico', 'Reunion', 'Russia', 'Saint Barthelemy', 'Saint Helena', 'Saint Martin (French part)', 'Saint Pierre and Miquelon', 'Scotland', 'Sint Maarten (Dutch part)', 'Somalia', 'South America', 'Syria', 'Taiwan', 'Tanzania', 'Timor', 'Tokelau', 'Turkey', 'Turks and Caicos Islands', 'United States Virgin Islands', 'Upper middle income', 'Vatican', 'Vietnam', 'Wales', 'Wallis and Futuna', 'Western Sahara', 'World']\n"
     ]
    }
   ],
   "source": [
    "unique_values = [x for x in list1 if x not in list2] + [x for x in list2 if x not in list1] \n",
    "print(unique_values)"
   ]
  },
  {
   "cell_type": "code",
   "execution_count": 90,
   "metadata": {},
   "outputs": [
    {
     "name": "stdout",
     "output_type": "stream",
     "text": [
      "Micronesia (country)\n"
     ]
    }
   ],
   "source": [
    "for name in list1:\n",
    "    if '(' in name:\n",
    "        print(name)"
   ]
  },
  {
   "cell_type": "markdown",
   "metadata": {},
   "source": [
    "Checking to see if any countries from the new datasat is missing from the covid19 dataset."
   ]
  },
  {
   "cell_type": "markdown",
   "metadata": {},
   "source": []
  },
  {
   "cell_type": "code",
   "execution_count": 93,
   "metadata": {},
   "outputs": [
    {
     "name": "stdout",
     "output_type": "stream",
     "text": [
      "The following countries from HDI data are missing in COVID-19 data:\n",
      "T�rkiye\n",
      "Brunei Darussalam\n",
      "Russian Federation\n",
      "Palestine, State of\n",
      "Viet Nam\n",
      "Cabo Verde\n",
      "Lao People's Democratic Republic\n",
      "Timor-Leste\n",
      "Syrian Arab Republic\n",
      "C�te d'Ivoire\n",
      "Tanzani\n"
     ]
    }
   ],
   "source": [
    "\n",
    "def find_missing_countries(hdi_data_file, covid_data_file):\n",
    "    # Load HDI and COVID-19 data into DataFrames\n",
    "    hdi_df = pd.read_csv(hdi_data_file, delimiter=\";\")\n",
    "    covid_df = pd.read_csv(covid_data_file)\n",
    "\n",
    "    # Get unique country names from HDI data\n",
    "    hdi_countries = hdi_df['location'].unique()\n",
    "\n",
    "    # Get unique country names from COVID-19 data\n",
    "    covid_countries = covid_df['location'].unique()\n",
    "\n",
    "    # Check for missing countries\n",
    "    missing_countries = []\n",
    "    for country in hdi_countries:\n",
    "        if country not in covid_countries:\n",
    "            missing_countries.append(country)\n",
    "    \n",
    "    # Print missing countries\n",
    "    if missing_countries:\n",
    "        print(\"The following countries from HDI data are missing in COVID-19 data:\")\n",
    "        for country in missing_countries:\n",
    "            print(country)\n",
    "    else:\n",
    "        print(\"All countries from HDI data are found in COVID-19 data.\")\n",
    "\n",
    "# Example usage:\n",
    "hdi_data_file = './Data/hdi.csv'  # Replace with the path to your HDI data file\n",
    "covid_data_file = './Data/owid-covid-data.csv'  # Replace with the path to your COVID-19 data file\n",
    "find_missing_countries(hdi_data_file, covid_data_file)"
   ]
  },
  {
   "cell_type": "markdown",
   "metadata": {},
   "source": [
    "Kig disse igennem i hdi.csv og sikr de er ens i begge datasæt.\n",
    "\n"
   ]
  }
 ],
 "metadata": {
  "kernelspec": {
   "display_name": "base",
   "language": "python",
   "name": "python3"
  },
  "language_info": {
   "codemirror_mode": {
    "name": "ipython",
    "version": 3
   },
   "file_extension": ".py",
   "mimetype": "text/x-python",
   "name": "python",
   "nbconvert_exporter": "python",
   "pygments_lexer": "ipython3",
   "version": "3.11.5"
  }
 },
 "nbformat": 4,
 "nbformat_minor": 2
}
